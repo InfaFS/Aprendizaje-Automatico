{
 "cells": [
  {
   "cell_type": "code",
   "execution_count": 1,
   "metadata": {},
   "outputs": [],
   "source": [
    "import pandas as pd\n",
    "import numpy as np\n",
    "from matplotlib import pylab as plt\n",
    "\n",
    "from sklearn import model_selection,preprocessing\n",
    "\n",
    "from ClassPerceptron import Perceptron"
   ]
  },
  {
   "cell_type": "code",
   "execution_count": 16,
   "metadata": {},
   "outputs": [
    {
     "name": "stdout",
     "output_type": "stream",
     "text": [
      "(210, 7)\n",
      "(210,)\n",
      "--------------\n",
      "[[-0.16450663 -0.12993536  0.06793461 ... -0.28025696 -1.49082751\n",
      "  -0.22041498]\n",
      " [-0.7398205  -0.88213501  0.69576917 ... -0.44479435  3.17058985\n",
      "  -0.83227414]\n",
      " [-0.26096644 -0.11458435 -0.7677641  ... -0.19268061  0.14653534\n",
      "  -0.22245451]\n",
      " ...\n",
      " [ 1.47875515  1.57402711  0.05096611 ...  1.26957908  1.98790187\n",
      "   1.31535152]\n",
      " [-0.58135081 -0.77467792  1.26845611 ... -0.15287318 -0.82614886\n",
      "  -1.27485227]\n",
      " [ 1.39263032  1.28235786  1.26421398 ...  1.35450161 -0.04080137\n",
      "   1.13791236]]\n"
     ]
    }
   ],
   "source": [
    "data = pd.read_csv(\"Semillas.csv\")\n",
    "\n",
    "data['Clase'] = data['Clase'].map({\n",
    "    'Tipo1': 0,\n",
    "    'Tipo2': 1,\n",
    "    'Tipo3': 2\n",
    "})\n",
    "\n",
    "# print(data)\n",
    "# Mezclar las filas del DataFrame\n",
    "data = data_shuffled = data.sample(frac=1).reset_index(drop=True)\n",
    "#datos de entrenamiento\n",
    "xTrain = np.array(data.iloc[:,0:7])\n",
    "T_Train = np.array(data.iloc[:,7:8]).ravel()\n",
    "\n",
    "xTest = np.array(data.iloc[:,0:7])\n",
    "T_Test = np.array(data.iloc[:,7:8]).ravel()\n",
    "\n",
    "\n",
    "#Normaliza utilizando la media y el desvio\n",
    "normalizador= preprocessing.StandardScaler()\n",
    "xTrain = normalizador.fit_transform(xTrain)\n",
    "xTest = normalizador.fit_transform(xTest)\n",
    "print(xTrain.shape)\n",
    "print(T_Train.shape)\n",
    "print('--------------')\n",
    "print(xTest)"
   ]
  },
  {
   "cell_type": "code",
   "execution_count": 17,
   "metadata": {},
   "outputs": [
    {
     "data": {
      "text/plain": [
       "<ClassPerceptron.Perceptron at 0x1e99a886540>"
      ]
     },
     "execution_count": 17,
     "metadata": {},
     "output_type": "execute_result"
    }
   ],
   "source": [
    "ppn = Perceptron(alpha=0.05, n_iter=200, draw=0, title=\"Semillas\", random_state=None)\n",
    "ppn.fit(xTrain, T_Train)\n",
    "\n"
   ]
  },
  {
   "cell_type": "code",
   "execution_count": 18,
   "metadata": {},
   "outputs": [
    {
     "name": "stdout",
     "output_type": "stream",
     "text": [
      "Y =  [0 1 1 1 0 0 1 1 1 0 1 1 1 1 1 0 1 1 0 1 1 1 1 1 0 1 0 1 1 1 1 1 0 0 0 1 1\n",
      " 1 1 0 1 1 1 0 1 1 1 1 1 1 1 0 1 1 1 1 0 0 1 0 0 1 0 1 0 1 0 1 0 0 0 1 0 1\n",
      " 1 1 1 1 1 0 1 1 1 1 1 1 1 0 1 1 1 0 0 1 1 0 0 1 1 1 1 1 0 0 1 1 1 1 1 1 1\n",
      " 0 1 0 0 1 1 1 0 0 1 1 1 1 0 1 1 1 0 1 1 0 1 0 1 1 0 1 1 1 1 1 1 1 0 0 1 0\n",
      " 1 1 1 1 1 0 0 0 1 1 1 1 1 1 1 1 1 1 1 0 1 0 1 1 1 0 0 1 0 1 1 1 1 0 1 1 1\n",
      " 0 1 1 1 1 1 1 1 0 1 0 1 1 1 1 0 1 1 0 1 1 0 1 0 0]\n",
      "T =  [0 2 0 2 1 1 2 1 0 0 0 2 2 2 1 1 0 1 1 2 1 0 0 1 1 1 1 2 2 0 1 1 1 1 1 2 0\n",
      " 2 0 0 0 2 2 0 1 2 0 2 1 2 1 0 1 2 2 1 1 0 1 1 1 0 1 2 1 2 0 1 0 1 0 0 0 2\n",
      " 2 1 0 2 2 0 1 0 2 0 2 2 0 0 2 1 2 1 0 0 0 1 0 2 2 2 0 2 1 0 0 2 0 2 2 1 2\n",
      " 0 2 1 0 1 2 1 1 0 0 2 2 1 1 2 2 1 0 2 2 1 0 0 0 0 1 0 1 2 2 2 0 2 1 1 2 0\n",
      " 0 0 2 2 2 1 1 2 0 2 1 2 2 2 2 0 1 2 0 0 1 0 1 0 2 1 1 2 0 2 1 0 1 1 2 2 1\n",
      " 0 2 2 0 1 1 0 0 0 2 0 0 2 0 0 0 1 2 1 1 1 1 1 0 1]\n",
      "aciertos =  66\n",
      "% de aciertos = 31.43 %\n"
     ]
    }
   ],
   "source": [
    "Y_Test = ppn.predict(xTest)\n",
    "\n",
    "# print(Y_Test)\n",
    "# print(T_Test)\n",
    "# # Filtrar las posiciones donde T_Test y Y_Test coinciden y ambos son 1\n",
    "# coincidencias_1 = (Y_Test == T_Test) & (T_Test == 0)\n",
    "\n",
    "# # Mostrar las coincidencias\n",
    "# print(\"Coincidencias cuando T_Test y Y_Test son 1:\")\n",
    "# print(\"Y_Test:\", Y_Test[coincidencias_1])\n",
    "# print(\"T_Test:\", T_Test[coincidencias_1])\n",
    "\n",
    "# # Contar y mostrar el número de aciertos específicos para el valor 1\n",
    "# aciertos_1 = sum(coincidencias_1)\n",
    "# print(f\"Aciertos específicos para el valor 1: {aciertos_1}\")\n",
    "\n",
    "\n",
    "print(\"Y = \",Y_Test)\n",
    "print(\"T = \",T_Test)\n",
    "aciertos = sum(Y_Test == T_Test)\n",
    "print(\"aciertos = \", aciertos)\n",
    "nAciertos = sum(Y_Test == T_Test)\n",
    "print(\"%% de aciertos = %.2f %%\" % (100*nAciertos/xTest.shape[0]))"
   ]
  },
  {
   "cell_type": "code",
   "execution_count": null,
   "metadata": {},
   "outputs": [],
   "source": [
    "import pandas as pd\n",
    "import numpy as np\n",
    "from sklearn.model_selection import train_test_split\n",
    "from sklearn.preprocessing import StandardScaler\n",
    "from sklearn.linear_model import Perceptron\n",
    "from sklearn.metrics import accuracy_score\n",
    "\n",
    "data = pd.read_csv(\"Semillas.csv\")\n",
    "\n",
    "data['Clase'] = data['Clase'].map({\n",
    "    'Tipo1': 0,\n",
    "    'Tipo2': 1,\n",
    "    'Tipo3': 2\n",
    "})\n",
    "\n",
    "# data = data.sample(frac=1).reset_index(drop=True) tengo que poner aleatoria la data?\n",
    "# Separar características (X) y etiquetas (y)\n",
    "X = data.iloc[:, 0:7].values  # Características <-- Transforma a numpy array directo(matriz)\n",
    "y = data['Clase'].values      # Etiquetas <-- Transforma a numpy array directo(1d)\n",
    "print(X.shape)\n",
    "print(y.shape)\n",
    "\n",
    "# Normalizar los datos con desviacion etc\n",
    "scaler = StandardScaler()\n",
    "X = scaler.fit_transform(X)\n",
    "\n",
    "# Dividir el dataset en entrenamiento y prueba\n",
    "X_train, X_test, y_train, y_test = train_test_split(X, y, test_size=0.3, random_state=42)\n",
    "#El test_size, indica el size del X_test y del y_test. Por ejemplo si ponemos 0.3 \n",
    "#X_train tendra el 70% de los datos e y_train tendra el 70% de los outputs\n",
    "print(X_train.shape)\n",
    "print(X_test.shape)\n",
    "print(y_train.shape)\n",
    "print(y_test.shape)\n",
    "# Entrenar el perceptrón\n",
    "perceptron = Perceptron(eta0=0.05, max_iter=200, random_state=42)\n",
    "perceptron.fit(X_train, y_train)\n",
    "\n",
    "# Predecir y calcular la precisión\n",
    "y_pred = perceptron.predict(X_test)\n",
    "accuracy = accuracy_score(y_test, y_pred)\n",
    "print(f\"Precisión del perceptrón: {accuracy * 100:.2f}%\")\n",
    "\n",
    "# Analizar el rendimiento para cada clase\n",
    "for clase in np.unique(y):\n",
    "    indices = np.where(y_test == clase)\n",
    "    precision_clase = accuracy_score(y_test[indices], y_pred[indices])\n",
    "    print(f\"Precisión para la clase {clase}: {precision_clase * 100:.2f}%\")"
   ]
  },
  {
   "cell_type": "code",
   "execution_count": null,
   "metadata": {},
   "outputs": [],
   "source": []
  }
 ],
 "metadata": {
  "kernelspec": {
   "display_name": "base",
   "language": "python",
   "name": "python3"
  },
  "language_info": {
   "codemirror_mode": {
    "name": "ipython",
    "version": 3
   },
   "file_extension": ".py",
   "mimetype": "text/x-python",
   "name": "python",
   "nbconvert_exporter": "python",
   "pygments_lexer": "ipython3",
   "version": "3.12.4"
  }
 },
 "nbformat": 4,
 "nbformat_minor": 2
}
