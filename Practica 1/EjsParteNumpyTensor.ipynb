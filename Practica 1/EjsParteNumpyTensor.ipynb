{
 "cells": [
  {
   "cell_type": "code",
   "execution_count": 3,
   "metadata": {},
   "outputs": [],
   "source": [
    "import numpy as np\n"
   ]
  },
  {
   "cell_type": "code",
   "execution_count": 65,
   "metadata": {},
   "outputs": [
    {
     "name": "stdout",
     "output_type": "stream",
     "text": [
      "range(0, 5)\n"
     ]
    }
   ],
   "source": [
    "a = np.array([1,2,3])\n",
    "b = np.empty((2,3))\n",
    "c = np.full((2,3),7)\n",
    "d = np.zeros((2,3))\n",
    "e = np.array([1,2,3,4,5,6,7,8])\n",
    "e.reshape(-1,4)\n",
    "f = np.ones((5,3))\n",
    "g = np.identity(6)\n",
    "r = range(5)\n",
    "print(r)\n",
    "h = np.random.choice(r, size=(2,3))\n",
    "\n"
   ]
  },
  {
   "cell_type": "code",
   "execution_count": 67,
   "metadata": {},
   "outputs": [
    {
     "name": "stdout",
     "output_type": "stream",
     "text": [
      "(5, 3) 5 2 15\n"
     ]
    }
   ],
   "source": [
    "print(f.shape,len(f),f.ndim,f.size)"
   ]
  },
  {
   "cell_type": "code",
   "execution_count": 74,
   "metadata": {},
   "outputs": [
    {
     "name": "stdout",
     "output_type": "stream",
     "text": [
      "Suma total: 12\n",
      "Suma por filas: [6 6]\n",
      "Suma por columnas: [3 4 5]\n",
      "Valor mínimo: 1\n",
      "Mínimo por filas: [2 1]\n",
      "Mínimo por columnas: [1 2 2]\n",
      "Valor máximo: 3\n",
      "Máximo por filas: [2 3]\n",
      "Máximo por columnas: [2 2 3]\n"
     ]
    },
    {
     "ename": "",
     "evalue": "",
     "output_type": "error",
     "traceback": [
      "\u001b[1;31mThe Kernel crashed while executing code in the current cell or a previous cell. \n",
      "\u001b[1;31mPlease review the code in the cell(s) to identify a possible cause of the failure. \n",
      "\u001b[1;31mClick <a href='https://aka.ms/vscodeJupyterKernelCrash'>here</a> for more info. \n",
      "\u001b[1;31mView Jupyter <a href='command:jupyter.viewOutput'>log</a> for further details."
     ]
    }
   ],
   "source": [
    "array = np.array([[2,2,2],[1,2,3]])\n",
    "\n",
    "# Suma de todos los elementos\n",
    "total_sum = np.sum(array)\n",
    "print(\"Suma total:\", total_sum)\n",
    "\n",
    "# Suma a lo largo de las filas (eje 1)\n",
    "row_sum = np.sum(array, axis=1)\n",
    "print(\"Suma por filas:\", row_sum)\n",
    "\n",
    "# Suma a lo largo de las columnas (eje 0)\n",
    "col_sum = np.sum(array, axis=0)\n",
    "print(\"Suma por columnas:\", col_sum)\n",
    "\n",
    "min_val = np.min(array)\n",
    "print(\"Valor mínimo:\", min_val)\n",
    "\n",
    "# Mínimo por filas\n",
    "row_min = np.min(array, axis=1)\n",
    "print(\"Mínimo por filas:\", row_min)\n",
    "\n",
    "# Mínimo por columnas\n",
    "col_min = np.min(array, axis=0)\n",
    "print(\"Mínimo por columnas:\", col_min)\n",
    "\n",
    "max_val = np.max(array)\n",
    "print(\"Valor máximo:\", max_val)\n",
    "\n",
    "# Máximo por filas\n",
    "row_max = np.max(array, axis=1)\n",
    "print(\"Máximo por filas:\", row_max)\n",
    "\n",
    "# Máximo por columnas\n",
    "col_max = np.max(array, axis=0)\n",
    "print(\"Máximo por columnas:\", col_max)"
   ]
  },
  {
   "cell_type": "code",
   "execution_count": null,
   "metadata": {},
   "outputs": [],
   "source": [
    "# Manipulación de elementos en arrays\n",
    "array = np.array([1, 2, 3])\n",
    "\n",
    "# Append\n",
    "array_appended = np.append(array, [4, 5, 6])\n",
    "print(\"Array después de append:\", array_appended)\n",
    "\n",
    "# Insert\n",
    "array_inserted = np.insert(array, 1, [9, 8])\n",
    "print(\"Array después de insert:\", array_inserted)\n",
    "\n",
    "# Delete\n",
    "array_deleted = np.delete(array, 1)\n",
    "print(\"Array después de delete:\", array_deleted)\n",
    "\n",
    "# Reshape\n",
    "array_reshaped = np.reshape(np.arange(6), (2, 3))\n",
    "print(\"Array después de reshape:\\n\", array_reshaped)\n",
    "\n",
    "# Ravel\n",
    "array_raveled = np.ravel(array_reshaped)\n",
    "print(\"Array después de ravel:\", array_raveled)\n",
    "\n",
    "# Flip\n",
    "array_flipped = np.flip(array_reshaped, axis=1)\n",
    "print(\"Array después de flip:\\n\", array_flipped)\n",
    "\n",
    "# Manipulación de arrays entre sí\n",
    "array1 = np.array([1, 2, 3])\n",
    "array2 = np.array([4, 5, 6])\n",
    "\n",
    "# vstack\n",
    "array_vstack = np.vstack((array1, array2))\n",
    "print(\"Array después de vstack:\\n\", array_vstack)\n",
    "\n",
    "# hstack\n",
    "array_hstack = np.hstack((array1, array2))\n",
    "print(\"Array después de hstack:\", array_hstack)\n",
    "\n",
    "# Concatenate\n",
    "array3 = np.array([[7, 8, 9]])\n",
    "array_concatenated = np.concatenate((array_vstack, array3), axis=0)\n",
    "print(\"Array después de concatenate:\\n\", array_concatenated)\n",
    "\n",
    "# Split\n",
    "array_split = np.split(array_concatenated, 3)\n",
    "print(\"Array después de split:\", array_split)\n",
    "\n",
    "# Tile\n",
    "array_tiled = np.tile(array1, (2, 2))\n",
    "print(\"Array después de tile:\\n\", array_tiled)\n",
    "\n",
    "# Repeat\n",
    "array_repeated = np.repeat(array1, 3)\n",
    "print(\"Array después de repeat:\", array_repeated)"
   ]
  },
  {
   "cell_type": "code",
   "execution_count": null,
   "metadata": {},
   "outputs": [],
   "source": []
  },
  {
   "cell_type": "code",
   "execution_count": 11,
   "metadata": {},
   "outputs": [
    {
     "name": "stdout",
     "output_type": "stream",
     "text": [
      "¿TensorFlow está usando la GPU?: []\n",
      "Tensor A:\n",
      " tf.Tensor(\n",
      "[[1. 2.]\n",
      " [3. 4.]], shape=(2, 2), dtype=float32)\n",
      "\n",
      "Tensor B (aleatorio):\n",
      " tf.Tensor(\n",
      "[[-1.3492662  -0.86581093]\n",
      " [ 0.1625013   0.461349  ]], shape=(2, 2), dtype=float32)\n",
      "\n",
      "Suma de tensores:\n",
      " tf.Tensor(\n",
      "[[-0.34926617  1.1341891 ]\n",
      " [ 3.1625013   4.461349  ]], shape=(2, 2), dtype=float32)\n",
      "\n",
      "Multiplicación matricial:\n",
      " tf.Tensor(\n",
      "[[-1.0242636   0.05688709]\n",
      " [-3.3977933  -0.7520368 ]], shape=(2, 2), dtype=float32)\n",
      "\n",
      "Tensor reordenado (reshape):\n",
      " tf.Tensor([[-1.0242636   0.05688709 -3.3977933  -0.7520368 ]], shape=(1, 4), dtype=float32)\n",
      "\n",
      "Tensor con dimensión añadida (expand_dims):\n",
      " tf.Tensor(\n",
      "[[[-1.0242636 ]\n",
      "  [ 0.05688709]\n",
      "  [-3.3977933 ]\n",
      "  [-0.7520368 ]]], shape=(1, 4, 1), dtype=float32)\n",
      "\n",
      "Tensor después de eliminar dimensiones de tamaño 1 (squeeze):\n",
      " tf.Tensor([-1.0242636   0.05688709 -3.3977933  -0.7520368 ], shape=(4,), dtype=float32)\n"
     ]
    }
   ],
   "source": [
    "import tensorflow as tf\n",
    "print(\"¿TensorFlow está usando la GPU?:\", tf.config.list_physical_devices('GPU'))\n",
    "# Crear tensores\n",
    "tensor_a = tf.constant([[1.0, 2.0], [3.0, 4.0]])\n",
    "tensor_b = tf.random.normal((2, 2), mean=0.0, stddev=1.0)\n",
    "\n",
    "print(\"Tensor A:\\n\", tensor_a)\n",
    "print(\"\\nTensor B (aleatorio):\\n\", tensor_b)\n",
    "\n",
    "# Operaciones matemáticas\n",
    "tensor_sum = tf.add(tensor_a, tensor_b)\n",
    "print(\"\\nSuma de tensores:\\n\", tensor_sum)\n",
    "\n",
    "tensor_matmul = tf.matmul(tensor_a, tensor_b)\n",
    "print(\"\\nMultiplicación matricial:\\n\", tensor_matmul)\n",
    "\n",
    "# Manipulación de tensores\n",
    "tensor_reshaped = tf.reshape(tensor_matmul, (1, 4))\n",
    "print(\"\\nTensor reordenado (reshape):\\n\", tensor_reshaped)\n",
    "\n",
    "tensor_expanded = tf.expand_dims(tensor_reshaped, axis=-1)\n",
    "print(\"\\nTensor con dimensión añadida (expand_dims):\\n\", tensor_expanded)\n",
    "\n",
    "tensor_squeezed = tf.squeeze(tensor_expanded)\n",
    "print(\"\\nTensor después de eliminar dimensiones de tamaño 1 (squeeze):\\n\", tensor_squeezed)"
   ]
  },
  {
   "cell_type": "code",
   "execution_count": 44,
   "metadata": {},
   "outputs": [
    {
     "name": "stdout",
     "output_type": "stream",
     "text": [
      "    Nombre  Edad       Pais\n",
      "0     Juan    20  Argentina\n",
      "1    Maria    26       Peru\n",
      "2    Pedro    18     Brasil\n",
      "3     Jose    22      Chile\n",
      "4  Facundo    20  Argentina\n",
      "5    Pedro    26   Colombia\n",
      "6    Mateo    21       Peru\n",
      "_--------------------_\n",
      "    Nombre  Edad       Pais\n",
      "0     Juan    20  Argentina\n",
      "1    Maria    26       Peru\n",
      "2    Pedro    18     Brasil\n",
      "3     Jose    22      Chile\n",
      "4  Facundo    20  Argentina\n",
      "6    Mateo    21       Peru\n",
      "_--------------------_\n",
      "    Nombre  Edad       Pais\n",
      "0     Juan    20  Argentina\n",
      "1    Maria    26       Perú\n",
      "2    Pedro    18     Brasil\n",
      "3     Jose    22      Chile\n",
      "4  Facundo    20  Argentina\n",
      "6    Mateo    21       Perú\n"
     ]
    }
   ],
   "source": [
    "import pandas as pd\n",
    "\n",
    "data = [\n",
    "    ['Juan',20,'Argentina'],\n",
    "    ['Maria',26,'Peru'],\n",
    "    ['Pedro',18,'Brasil'],\n",
    "    ['Jose',22,'Chile']\n",
    "]\n",
    "\n",
    "#forma 1\n",
    "df = pd.DataFrame(data,columns=['Nombre','Edad','Pais'])\n",
    "nuevo_user = ['Facundo',20,'Argentina']\n",
    "df.loc[4] = nuevo_user\n",
    "#forma 2\n",
    "new_row = pd.DataFrame({'Nombre': ['Pedro'], 'Edad': [26], 'Pais': ['Colombia']})\n",
    "nuevo_df = pd.concat([df,new_row], ignore_index=True)\n",
    "nuevo_df.loc[6] = ['Mateo',21,'Peru']\n",
    "#------------#\n",
    "print(nuevo_df)\n",
    "tabla_sin_pedro = nuevo_df.drop_duplicates(subset=['Nombre'], keep='first')\n",
    "print('_--------------------_')\n",
    "print(tabla_sin_pedro)\n",
    "print('_--------------------_')\n",
    "tabla_sin_pedro.loc[tabla_sin_pedro['Pais'] == 'Peru' , 'Pais'] = 'Perú'\n",
    "print(tabla_sin_pedro)\n",
    "#---------------#\n",
    "\n",
    "# Guardar como archivo delimitado por tabuladores\n",
    "tabla_sin_pedro.to_csv('data_tabulador.txt', sep='\\t', index=False)\n",
    "\n",
    "# Guardar como archivo delimitado por punto y coma\n",
    "tabla_sin_pedro.to_csv('data_punto_y_coma.csv', sep=';', index=False)\n",
    "\n",
    "# Guardar como archivo Excel\n",
    "tabla_sin_pedro.to_excel('data_excel.xlsx', index=False)\n",
    "\n",
    "# Guardar como archivo JSON\n",
    "tabla_sin_pedro.to_json('data.json', orient='records', lines=True)"
   ]
  },
  {
   "cell_type": "code",
   "execution_count": null,
   "metadata": {},
   "outputs": [],
   "source": []
  }
 ],
 "metadata": {
  "kernelspec": {
   "display_name": "base",
   "language": "python",
   "name": "python3"
  },
  "language_info": {
   "codemirror_mode": {
    "name": "ipython",
    "version": 3
   },
   "file_extension": ".py",
   "mimetype": "text/x-python",
   "name": "python",
   "nbconvert_exporter": "python",
   "pygments_lexer": "ipython3",
   "version": "3.12.4"
  }
 },
 "nbformat": 4,
 "nbformat_minor": 2
}
