{
 "nbformat": 4,
 "nbformat_minor": 0,
 "metadata": {
  "colab": {
   "provenance": [
    {
     "file_id": "1h9-ghQ8VXSPHLSG8Hkv8V3MqycXubDfN",
     "timestamp": 1667621061373
    },
    {
     "file_id": "1FV-Ydu5NBJ7DvGNfrlwMxfBHzXCqsO4A",
     "timestamp": 1667001788387
    }
   ],
   "authorship_tag": "ABX9TyMt9xgytfLNNMj6K0aeMiqq"
  },
  "kernelspec": {
   "name": "python3",
   "display_name": "Python 3 (ipykernel)",
   "language": "python"
  },
  "language_info": {
   "name": "python"
  },
  "gpuClass": "standard"
 },
 "cells": [
  {
   "cell_type": "markdown",
   "source": [
    "# Multiperceptrón\n",
    "---\n",
    "**Montar la carpeta de Google Drive y definir constantes para trabajar**"
   ],
   "metadata": {
    "id": "vdWG2FEMDVST"
   }
  },
  {
   "metadata": {
    "id": "HIP8SbdLIkDZ",
    "colab": {
     "base_uri": "https://localhost:8080/"
    },
    "executionInfo": {
     "status": "ok",
     "timestamp": 1695656936274,
     "user_tz": 180,
     "elapsed": 2672,
     "user": {
      "displayName": "Cesar Estrebou",
      "userId": "12510511812709829812"
     }
    },
    "outputId": "f81cf2df-cc15-42b8-b916-55812f8329b8",
    "ExecuteTime": {
     "end_time": "2024-09-24T02:38:20.759296Z",
     "start_time": "2024-09-24T02:38:20.757099Z"
    }
   },
   "cell_type": "code",
   "source": "",
   "outputs": [],
   "execution_count": null
  },
  {
   "cell_type": "code",
   "source": [
    "import pandas as pd      # para trabajar con archivos de datos csv, excel, etc: https://pandas.pydata.org/docs/getting_started/tutorials.html\n",
    "import chardet           # para detectar la codificación de texto en archivos\n",
    "import numpy as np\n",
    "\n",
    "from sklearn import preprocessing, model_selection\n",
    "from sklearn.neural_network import MLPClassifier\n",
    "\n",
    "from matplotlib import pyplot as plt\n",
    "\n",
    "nombre_archivo = '../../Datos/Balance.csv' # archivo de hojas\n",
    "\n",
    "#-- detectando la codificación de caracteres usada ----\n",
    "with open(nombre_archivo, 'rb') as f:\n",
    "    result = chardet.detect(f.read())  # or readline if the file is large\n",
    "\n",
    "# recupera el archivo en un objeto dataframe de pandas utilizando la codificación detectada\n",
    "# %% Carga de dataset con formato R, G, B, Color\n",
    "df = pd.read_csv(nombre_archivo, encoding=result['encoding'])\n",
    "\n",
    "# Para hacer una inspección rápida de los datos\n",
    "print(df.head())\n",
    "print(df.describe())\n",
    "# df['Balance'].hist(bins=3)\n"
   ],
   "metadata": {
    "id": "44viJuybOEYD",
    "colab": {
     "base_uri": "https://localhost:8080/",
     "height": 449
    },
    "executionInfo": {
     "status": "ok",
     "timestamp": 1695656936746,
     "user_tz": 180,
     "elapsed": 490,
     "user": {
      "displayName": "Cesar Estrebou",
      "userId": "12510511812709829812"
     }
    },
    "outputId": "29547e1b-5d94-4eb2-ced6-19c2ddf22e4b",
    "ExecuteTime": {
     "end_time": "2024-09-24T02:38:20.780003Z",
     "start_time": "2024-09-24T02:38:20.769449Z"
    }
   },
   "outputs": [
    {
     "name": "stdout",
     "output_type": "stream",
     "text": [
      "  Balance  LeftWeight  LeftDist  RightWeight  RightDist\n",
      "0       B           1         1            1          1\n",
      "1       R           1         1            1          2\n",
      "2       R           1         1            1          3\n",
      "3       R           1         1            1          4\n",
      "4       R           1         1            1          5\n",
      "       LeftWeight    LeftDist  RightWeight   RightDist\n",
      "count  625.000000  625.000000   625.000000  625.000000\n",
      "mean     3.000000    3.000000     3.000000    3.000000\n",
      "std      1.415346    1.415346     1.415346    1.415346\n",
      "min      1.000000    1.000000     1.000000    1.000000\n",
      "25%      2.000000    2.000000     2.000000    2.000000\n",
      "50%      3.000000    3.000000     3.000000    3.000000\n",
      "75%      4.000000    4.000000     4.000000    4.000000\n",
      "max      5.000000    5.000000     5.000000    5.000000\n"
     ]
    }
   ],
   "execution_count": 39
  },
  {
   "cell_type": "markdown",
   "source": [
    "Selección de atributos y target"
   ],
   "metadata": {
    "id": "Ufa1Z79_OMeG"
   }
  },
  {
   "cell_type": "code",
   "metadata": {
    "id": "31U4F4YICm74",
    "colab": {
     "base_uri": "https://localhost:8080/"
    },
    "executionInfo": {
     "status": "ok",
     "timestamp": 1695656936747,
     "user_tz": 180,
     "elapsed": 7,
     "user": {
      "displayName": "Cesar Estrebou",
      "userId": "12510511812709829812"
     }
    },
    "outputId": "8cf75133-443a-4ca6-ee5e-3e702ee26ab7",
    "ExecuteTime": {
     "end_time": "2024-09-24T02:38:20.797352Z",
     "start_time": "2024-09-24T02:38:20.792023Z"
    }
   },
   "source": [
    "# %% separa atributos y clases\n",
    "X_raw = np.array(df.iloc[:,1:])  # recupera todas las columnas salvo la primera (es la clase)\n",
    "Y_raw = np.array(df.iloc[:,-1])    # recupera solo la última columna (es la clase)\n",
    "\n",
    "# Binarizador para convertir el nombre de la clase en one hot encoding\n",
    "binarizer = preprocessing.LabelBinarizer()\n",
    "\n",
    "# Binariza cada clase como una combinación de un 1 y 0s\n",
    "Y_raw = binarizer.fit_transform(Y_raw)\n",
    "# Y_raw==pd.get_dummies(df[' Balance']).to_numpy() # forma alternativa para codificar\n",
    "\n",
    "print('Las clases del dataset son :', binarizer.classes_)\n",
    "print(Y_raw)\n",
    "# Escala los atributos de los ejemplo\n",
    "scaler = preprocessing.StandardScaler()\n",
    "#scaler = preprocessing.MinMaxScaler()\n",
    "X_raw  = scaler.fit_transform( X_raw )\n",
    "\n",
    "# %% Separa ejemplos para enternamiento y testeo\n",
    "TEST_SIZE = 0.3 # proporcion entre testeo entre entrenamiento y testeo\n",
    "X_train, X_test, Y_train, Y_test = model_selection.train_test_split(X_raw, Y_raw, test_size=TEST_SIZE)#, random_state=42)\n",
    "\n",
    "print('\\nDatos de Entrenamiento: %d   Datos de Testeo: %d' % (len(Y_train), len(Y_test) ))\n"
   ],
   "outputs": [
    {
     "name": "stdout",
     "output_type": "stream",
     "text": [
      "Las clases del dataset son : [1 2 3 4 5]\n",
      "[[1 0 0 0 0]\n",
      " [0 1 0 0 0]\n",
      " [0 0 1 0 0]\n",
      " ...\n",
      " [0 0 1 0 0]\n",
      " [0 0 0 1 0]\n",
      " [0 0 0 0 1]]\n",
      "\n",
      "Datos de Entrenamiento: 437   Datos de Testeo: 188\n"
     ]
    }
   ],
   "execution_count": 40
  },
  {
   "cell_type": "code",
   "source": [
    "FunH = 'tanh'   # identity logistic tanh relu\n",
    "ocultas = (8)\n",
    "\n",
    "alfa = 0.005\n",
    "CotaError = 1.0e-5\n",
    "MAX_ITE = 2500\n",
    "\n",
    "modelo = MLPClassifier(max_iter=MAX_ITE, hidden_layer_sizes=ocultas, alpha=alfa,\n",
    "                       solver='sgd', activation=FunH, tol=CotaError,\n",
    "                       verbose=False).fit(X_train, Y_train)\n",
    "\n",
    "modelo.out_activation_ = 'softmax'\n",
    "\n",
    "#  ########### Medición del entrenamiento ######################\n",
    "Y_pred = modelo.predict(X_train)\n",
    "score = modelo.score(X_train, Y_train)\n",
    "\n",
    "# \"invierte\" la transformacion binaria para obtener los nombres de las clases\n",
    "Y_it = binarizer.inverse_transform(Y_train)\n",
    "Y_pred_it = binarizer.inverse_transform(Y_pred)\n",
    "\n",
    "# calculo manual del accuracy\n",
    "print('Efectividad: %6.2f%%' % (100*(Y_pred_it == Y_it).sum()/len(Y_it)) )\n",
    "print('      Score: %6.2f%%' % (score) )\n"
   ],
   "metadata": {
    "colab": {
     "base_uri": "https://localhost:8080/"
    },
    "id": "WFr6IoGQBcvr",
    "executionInfo": {
     "status": "ok",
     "timestamp": 1695656939825,
     "user_tz": 180,
     "elapsed": 3083,
     "user": {
      "displayName": "Cesar Estrebou",
      "userId": "12510511812709829812"
     }
    },
    "outputId": "b84700e6-8f9f-469b-cfc0-8792167dbe2a",
    "ExecuteTime": {
     "end_time": "2024-09-24T02:38:21.423710Z",
     "start_time": "2024-09-24T02:38:20.807610Z"
    }
   },
   "outputs": [
    {
     "name": "stdout",
     "output_type": "stream",
     "text": [
      "Efectividad: 100.00%\n",
      "      Score:   1.00%\n"
     ]
    },
    {
     "name": "stderr",
     "output_type": "stream",
     "text": [
      "/opt/anaconda3/lib/python3.12/site-packages/sklearn/neural_network/_multilayer_perceptron.py:691: ConvergenceWarning: Stochastic Optimizer: Maximum iterations (2500) reached and the optimization hasn't converged yet.\n",
      "  warnings.warn(\n"
     ]
    }
   ],
   "execution_count": 41
  },
  {
   "cell_type": "code",
   "source": [
    "#  ########### Medición del testeo ######################\n",
    "Y_pred = modelo.predict(X_test)\n",
    "score = modelo.score(X_test, Y_test)\n",
    "\n",
    "# \"invierte\" la transformacion binaria para obtener los nombres de las clases\n",
    "Y_it = binarizer.inverse_transform(Y_test)\n",
    "Y_pred_it = binarizer.inverse_transform(Y_pred)\n",
    "\n",
    "# calculo manual del accuracy\n",
    "print('Efectividad: %6.2f%%' % (100*(Y_pred_it == Y_it).sum()/len(Y_it)) )\n",
    "print('      Score: %6.2f%%' % (score) )"
   ],
   "metadata": {
    "colab": {
     "base_uri": "https://localhost:8080/"
    },
    "id": "9sHU6LrTMPuF",
    "executionInfo": {
     "status": "ok",
     "timestamp": 1695656940104,
     "user_tz": 180,
     "elapsed": 283,
     "user": {
      "displayName": "Cesar Estrebou",
      "userId": "12510511812709829812"
     }
    },
    "outputId": "26b56daf-18e7-4752-a9bb-e492e51f7b59",
    "ExecuteTime": {
     "end_time": "2024-09-24T02:38:21.552131Z",
     "start_time": "2024-09-24T02:38:21.548334Z"
    }
   },
   "outputs": [
    {
     "name": "stdout",
     "output_type": "stream",
     "text": [
      "Efectividad: 100.00%\n",
      "      Score:   1.00%\n"
     ]
    }
   ],
   "execution_count": 42
  },
  {
   "metadata": {
    "ExecuteTime": {
     "end_time": "2024-09-24T02:38:21.599490Z",
     "start_time": "2024-09-24T02:38:21.597707Z"
    }
   },
   "cell_type": "code",
   "source": "",
   "outputs": [],
   "execution_count": null
  }
 ]
}
