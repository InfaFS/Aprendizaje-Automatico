{
 "nbformat": 4,
 "nbformat_minor": 0,
 "metadata": {
  "colab": {
   "provenance": [
    {
     "file_id": "1h9-ghQ8VXSPHLSG8Hkv8V3MqycXubDfN",
     "timestamp": 1667621061373
    },
    {
     "file_id": "1FV-Ydu5NBJ7DvGNfrlwMxfBHzXCqsO4A",
     "timestamp": 1667001788387
    }
   ],
   "authorship_tag": "ABX9TyOUae0a++Vkt3oaixboFs/j"
  },
  "kernelspec": {
   "name": "python3",
   "display_name": "Python 3 (ipykernel)",
   "language": "python"
  },
  "language_info": {
   "name": "python"
  },
  "gpuClass": "standard"
 },
 "cells": [
  {
   "cell_type": "markdown",
   "source": [
    "# Multiperceptrón\n",
    "---\n",
    "**Montar la carpeta de Google Drive y definir constantes para trabajar**"
   ],
   "metadata": {
    "id": "vdWG2FEMDVST"
   }
  },
  {
   "cell_type": "code",
   "source": [
    "import pandas as pd      # para trabajar con archivos de datos csv, excel, etc: https://pandas.pydata.org/docs/getting_started/tutorials.html\n",
    "import chardet           # para detectar la codificación de texto en archivos\n",
    "import numpy as np\n",
    "\n",
    "from sklearn import preprocessing, model_selection\n",
    "from sklearn.neural_network import MLPClassifier\n",
    "from matplotlib import pyplot as plt\n",
    "\n",
    "nombre_archivo = '../../Datos/zoo.csv' # archivo de hojas\n",
    "\n",
    "#-- detectando la codificación de caracteres usada ----\n",
    "with open(nombre_archivo, 'rb') as f:\n",
    "    result = chardet.detect(f.read())  # or readline if the file is large\n",
    "\n",
    "# recupera el archivo en un objeto dataframe de pandas utilizando la codificación detectada\n",
    "# %% Carga de dataset con formato R, G, B, Color\n",
    "df = pd.read_csv(nombre_archivo, encoding=result['encoding'])\n",
    "\n",
    "# Para hacer una inspección rápida de los datos\n",
    "#print(df.head())\n",
    "#print(df.describe())\n",
    "df['Clase'].hist(bins=7)\n",
    "\n",
    "df"
   ],
   "metadata": {
    "id": "44viJuybOEYD",
    "colab": {
     "base_uri": "https://localhost:8080/",
     "height": 736
    },
    "executionInfo": {
     "status": "ok",
     "timestamp": 1668836194836,
     "user_tz": 180,
     "elapsed": 482,
     "user": {
      "displayName": "Cesar Estrebou",
      "userId": "12510511812709829812"
     }
    },
    "outputId": "10be20e0-2511-45fe-8f41-f88980178b82",
    "ExecuteTime": {
     "end_time": "2024-09-24T02:48:36.747635Z",
     "start_time": "2024-09-24T02:48:36.669754Z"
    }
   },
   "outputs": [
    {
     "data": {
      "text/plain": [
       "             animal  Tiene_Pelo  Tiene_Plumas  Nace_de_huevo  Toma_Leche  \\\n",
       "0    oso_hormiguero           1             0              0           1   \n",
       "1          antilope           1             0              0           1   \n",
       "2            robalo           0             0              1           0   \n",
       "3               oso           1             0              0           1   \n",
       "4            jabali           1             0              0           1   \n",
       "..              ...         ...           ...            ...         ...   \n",
       "96          canguro           1             0              0           1   \n",
       "97           avispa           1             0              1           0   \n",
       "98             lobo           1             0              0           1   \n",
       "99           gusano           0             0              1           0   \n",
       "100      troglodito           0             1              1           0   \n",
       "\n",
       "     Vuela  Acuatico  Depredador  Dentado  Vertebrado  Respira  Venenoso  \\\n",
       "0        0         0           1        1           1        1         0   \n",
       "1        0         0           0        1           1        1         0   \n",
       "2        0         1           1        1           1        0         0   \n",
       "3        0         0           1        1           1        1         0   \n",
       "4        0         0           1        1           1        1         0   \n",
       "..     ...       ...         ...      ...         ...      ...       ...   \n",
       "96       0         0           0        1           1        1         0   \n",
       "97       1         0           0        0           0        1         1   \n",
       "98       0         0           1        1           1        1         0   \n",
       "99       0         0           0        0           0        1         0   \n",
       "100      1         0           0        0           1        1         0   \n",
       "\n",
       "     Tiene_Aletas  Cant_Patas  Tiene_Cola  Domestico  Tamano_Gato  \\\n",
       "0               0           4           0          0            1   \n",
       "1               0           4           1          0            1   \n",
       "2               1           0           1          0            0   \n",
       "3               0           4           0          0            1   \n",
       "4               0           4           1          0            1   \n",
       "..            ...         ...         ...        ...          ...   \n",
       "96              0           2           1          0            1   \n",
       "97              0           6           0          0            0   \n",
       "98              0           4           1          0            1   \n",
       "99              0           0           0          0            0   \n",
       "100             0           2           1          0            0   \n",
       "\n",
       "            Clase  \n",
       "0        Mamifero  \n",
       "1        Mamifero  \n",
       "2             Pez  \n",
       "3        Mamifero  \n",
       "4        Mamifero  \n",
       "..            ...  \n",
       "96       Mamifero  \n",
       "97        Insecto  \n",
       "98       Mamifero  \n",
       "99   Invertebrado  \n",
       "100           Ave  \n",
       "\n",
       "[101 rows x 18 columns]"
      ],
      "text/html": [
       "<div>\n",
       "<style scoped>\n",
       "    .dataframe tbody tr th:only-of-type {\n",
       "        vertical-align: middle;\n",
       "    }\n",
       "\n",
       "    .dataframe tbody tr th {\n",
       "        vertical-align: top;\n",
       "    }\n",
       "\n",
       "    .dataframe thead th {\n",
       "        text-align: right;\n",
       "    }\n",
       "</style>\n",
       "<table border=\"1\" class=\"dataframe\">\n",
       "  <thead>\n",
       "    <tr style=\"text-align: right;\">\n",
       "      <th></th>\n",
       "      <th>animal</th>\n",
       "      <th>Tiene_Pelo</th>\n",
       "      <th>Tiene_Plumas</th>\n",
       "      <th>Nace_de_huevo</th>\n",
       "      <th>Toma_Leche</th>\n",
       "      <th>Vuela</th>\n",
       "      <th>Acuatico</th>\n",
       "      <th>Depredador</th>\n",
       "      <th>Dentado</th>\n",
       "      <th>Vertebrado</th>\n",
       "      <th>Respira</th>\n",
       "      <th>Venenoso</th>\n",
       "      <th>Tiene_Aletas</th>\n",
       "      <th>Cant_Patas</th>\n",
       "      <th>Tiene_Cola</th>\n",
       "      <th>Domestico</th>\n",
       "      <th>Tamano_Gato</th>\n",
       "      <th>Clase</th>\n",
       "    </tr>\n",
       "  </thead>\n",
       "  <tbody>\n",
       "    <tr>\n",
       "      <th>0</th>\n",
       "      <td>oso_hormiguero</td>\n",
       "      <td>1</td>\n",
       "      <td>0</td>\n",
       "      <td>0</td>\n",
       "      <td>1</td>\n",
       "      <td>0</td>\n",
       "      <td>0</td>\n",
       "      <td>1</td>\n",
       "      <td>1</td>\n",
       "      <td>1</td>\n",
       "      <td>1</td>\n",
       "      <td>0</td>\n",
       "      <td>0</td>\n",
       "      <td>4</td>\n",
       "      <td>0</td>\n",
       "      <td>0</td>\n",
       "      <td>1</td>\n",
       "      <td>Mamifero</td>\n",
       "    </tr>\n",
       "    <tr>\n",
       "      <th>1</th>\n",
       "      <td>antilope</td>\n",
       "      <td>1</td>\n",
       "      <td>0</td>\n",
       "      <td>0</td>\n",
       "      <td>1</td>\n",
       "      <td>0</td>\n",
       "      <td>0</td>\n",
       "      <td>0</td>\n",
       "      <td>1</td>\n",
       "      <td>1</td>\n",
       "      <td>1</td>\n",
       "      <td>0</td>\n",
       "      <td>0</td>\n",
       "      <td>4</td>\n",
       "      <td>1</td>\n",
       "      <td>0</td>\n",
       "      <td>1</td>\n",
       "      <td>Mamifero</td>\n",
       "    </tr>\n",
       "    <tr>\n",
       "      <th>2</th>\n",
       "      <td>robalo</td>\n",
       "      <td>0</td>\n",
       "      <td>0</td>\n",
       "      <td>1</td>\n",
       "      <td>0</td>\n",
       "      <td>0</td>\n",
       "      <td>1</td>\n",
       "      <td>1</td>\n",
       "      <td>1</td>\n",
       "      <td>1</td>\n",
       "      <td>0</td>\n",
       "      <td>0</td>\n",
       "      <td>1</td>\n",
       "      <td>0</td>\n",
       "      <td>1</td>\n",
       "      <td>0</td>\n",
       "      <td>0</td>\n",
       "      <td>Pez</td>\n",
       "    </tr>\n",
       "    <tr>\n",
       "      <th>3</th>\n",
       "      <td>oso</td>\n",
       "      <td>1</td>\n",
       "      <td>0</td>\n",
       "      <td>0</td>\n",
       "      <td>1</td>\n",
       "      <td>0</td>\n",
       "      <td>0</td>\n",
       "      <td>1</td>\n",
       "      <td>1</td>\n",
       "      <td>1</td>\n",
       "      <td>1</td>\n",
       "      <td>0</td>\n",
       "      <td>0</td>\n",
       "      <td>4</td>\n",
       "      <td>0</td>\n",
       "      <td>0</td>\n",
       "      <td>1</td>\n",
       "      <td>Mamifero</td>\n",
       "    </tr>\n",
       "    <tr>\n",
       "      <th>4</th>\n",
       "      <td>jabali</td>\n",
       "      <td>1</td>\n",
       "      <td>0</td>\n",
       "      <td>0</td>\n",
       "      <td>1</td>\n",
       "      <td>0</td>\n",
       "      <td>0</td>\n",
       "      <td>1</td>\n",
       "      <td>1</td>\n",
       "      <td>1</td>\n",
       "      <td>1</td>\n",
       "      <td>0</td>\n",
       "      <td>0</td>\n",
       "      <td>4</td>\n",
       "      <td>1</td>\n",
       "      <td>0</td>\n",
       "      <td>1</td>\n",
       "      <td>Mamifero</td>\n",
       "    </tr>\n",
       "    <tr>\n",
       "      <th>...</th>\n",
       "      <td>...</td>\n",
       "      <td>...</td>\n",
       "      <td>...</td>\n",
       "      <td>...</td>\n",
       "      <td>...</td>\n",
       "      <td>...</td>\n",
       "      <td>...</td>\n",
       "      <td>...</td>\n",
       "      <td>...</td>\n",
       "      <td>...</td>\n",
       "      <td>...</td>\n",
       "      <td>...</td>\n",
       "      <td>...</td>\n",
       "      <td>...</td>\n",
       "      <td>...</td>\n",
       "      <td>...</td>\n",
       "      <td>...</td>\n",
       "      <td>...</td>\n",
       "    </tr>\n",
       "    <tr>\n",
       "      <th>96</th>\n",
       "      <td>canguro</td>\n",
       "      <td>1</td>\n",
       "      <td>0</td>\n",
       "      <td>0</td>\n",
       "      <td>1</td>\n",
       "      <td>0</td>\n",
       "      <td>0</td>\n",
       "      <td>0</td>\n",
       "      <td>1</td>\n",
       "      <td>1</td>\n",
       "      <td>1</td>\n",
       "      <td>0</td>\n",
       "      <td>0</td>\n",
       "      <td>2</td>\n",
       "      <td>1</td>\n",
       "      <td>0</td>\n",
       "      <td>1</td>\n",
       "      <td>Mamifero</td>\n",
       "    </tr>\n",
       "    <tr>\n",
       "      <th>97</th>\n",
       "      <td>avispa</td>\n",
       "      <td>1</td>\n",
       "      <td>0</td>\n",
       "      <td>1</td>\n",
       "      <td>0</td>\n",
       "      <td>1</td>\n",
       "      <td>0</td>\n",
       "      <td>0</td>\n",
       "      <td>0</td>\n",
       "      <td>0</td>\n",
       "      <td>1</td>\n",
       "      <td>1</td>\n",
       "      <td>0</td>\n",
       "      <td>6</td>\n",
       "      <td>0</td>\n",
       "      <td>0</td>\n",
       "      <td>0</td>\n",
       "      <td>Insecto</td>\n",
       "    </tr>\n",
       "    <tr>\n",
       "      <th>98</th>\n",
       "      <td>lobo</td>\n",
       "      <td>1</td>\n",
       "      <td>0</td>\n",
       "      <td>0</td>\n",
       "      <td>1</td>\n",
       "      <td>0</td>\n",
       "      <td>0</td>\n",
       "      <td>1</td>\n",
       "      <td>1</td>\n",
       "      <td>1</td>\n",
       "      <td>1</td>\n",
       "      <td>0</td>\n",
       "      <td>0</td>\n",
       "      <td>4</td>\n",
       "      <td>1</td>\n",
       "      <td>0</td>\n",
       "      <td>1</td>\n",
       "      <td>Mamifero</td>\n",
       "    </tr>\n",
       "    <tr>\n",
       "      <th>99</th>\n",
       "      <td>gusano</td>\n",
       "      <td>0</td>\n",
       "      <td>0</td>\n",
       "      <td>1</td>\n",
       "      <td>0</td>\n",
       "      <td>0</td>\n",
       "      <td>0</td>\n",
       "      <td>0</td>\n",
       "      <td>0</td>\n",
       "      <td>0</td>\n",
       "      <td>1</td>\n",
       "      <td>0</td>\n",
       "      <td>0</td>\n",
       "      <td>0</td>\n",
       "      <td>0</td>\n",
       "      <td>0</td>\n",
       "      <td>0</td>\n",
       "      <td>Invertebrado</td>\n",
       "    </tr>\n",
       "    <tr>\n",
       "      <th>100</th>\n",
       "      <td>troglodito</td>\n",
       "      <td>0</td>\n",
       "      <td>1</td>\n",
       "      <td>1</td>\n",
       "      <td>0</td>\n",
       "      <td>1</td>\n",
       "      <td>0</td>\n",
       "      <td>0</td>\n",
       "      <td>0</td>\n",
       "      <td>1</td>\n",
       "      <td>1</td>\n",
       "      <td>0</td>\n",
       "      <td>0</td>\n",
       "      <td>2</td>\n",
       "      <td>1</td>\n",
       "      <td>0</td>\n",
       "      <td>0</td>\n",
       "      <td>Ave</td>\n",
       "    </tr>\n",
       "  </tbody>\n",
       "</table>\n",
       "<p>101 rows × 18 columns</p>\n",
       "</div>"
      ]
     },
     "execution_count": 5,
     "metadata": {},
     "output_type": "execute_result"
    },
    {
     "data": {
      "text/plain": [
       "<Figure size 640x480 with 1 Axes>"
      ],
      "image/png": "[encoded data removed]"
     },
     "metadata": {},
     "output_type": "display_data"
    }
   ],
   "execution_count": 5
  },
  {
   "cell_type": "markdown",
   "source": [
    "Selección de atributos y target"
   ],
   "metadata": {
    "id": "Ufa1Z79_OMeG"
   }
  },
  {
   "cell_type": "code",
   "metadata": {
    "id": "31U4F4YICm74",
    "colab": {
     "base_uri": "https://localhost:8080/"
    },
    "executionInfo": {
     "status": "ok",
     "timestamp": 1668836313792,
     "user_tz": 180,
     "elapsed": 443,
     "user": {
      "displayName": "Cesar Estrebou",
      "userId": "12510511812709829812"
     }
    },
    "outputId": "fc650cf1-5e84-4862-98a0-920c427989dc",
    "ExecuteTime": {
     "end_time": "2024-09-24T02:48:36.772758Z",
     "start_time": "2024-09-24T02:48:36.766247Z"
    }
   },
   "source": [
    "# %% separa atributos y clases\n",
    "X_raw = np.array(df.iloc[:,1:-1])  # recupera todas las columnas salvo la primera (es la clase)\n",
    "Y_raw = np.array(df.iloc[:,-1])    # recupera solo la última columna (es la clase)\n",
    "\n",
    "# Binarizador para convertir el nombre de la clase en one hot encoding\n",
    "binarizer = preprocessing.LabelBinarizer()\n",
    "\n",
    "# Binariza cada clase como una combinación de un 1 y 0s\n",
    "Y_raw = binarizer.fit_transform(Y_raw)\n",
    "print('Las clases del dataset son :', binarizer.classes_)\n",
    "\n",
    "# Escala los atributos de los ejemplo\n",
    "scaler = preprocessing.StandardScaler()\n",
    "#scaler = preprocessing.MinMaxScaler()\n",
    "X_raw  = scaler.fit_transform( X_raw )\n",
    "\n",
    "# %% Separa ejemplos para enternamiento y testeo\n",
    "TEST_SIZE = 0.3 # proporcion entre testeo entre entrenamiento y testeo\n",
    "X_train, X_test, Y_train, Y_test = model_selection.train_test_split(X_raw, Y_raw, test_size=TEST_SIZE)#, random_state=42)\n",
    "\n",
    "print('\\nDatos de Entrenamiento: %d   Datos de Testeo: %d' % (len(Y_train), len(Y_test) ))"
   ],
   "outputs": [
    {
     "name": "stdout",
     "output_type": "stream",
     "text": [
      "Las clases del dataset son : ['Anfibio' 'Ave' 'Insecto' 'Invertebrado' 'Mamifero' 'Pez' 'Reptil']\n",
      "\n",
      "Datos de Entrenamiento: 70   Datos de Testeo: 31\n"
     ]
    }
   ],
   "execution_count": 6
  },
  {
   "cell_type": "code",
   "source": [
    "FunH = 'identity'   # identity logistic tanh relu\n",
    "ocultas = (6)\n",
    "\n",
    "alfa = 0.001\n",
    "MAX_ITE = 1300\n",
    "\n",
    "modelo = MLPClassifier(max_iter=MAX_ITE, hidden_layer_sizes=ocultas, alpha=alfa,\n",
    "                       solver='sgd', activation=FunH, tol=0.001,\n",
    "                       verbose=False).fit(X_train, Y_train)\n",
    "\n",
    "modelo.out_activation_ = 'softmax'\n",
    "\n",
    "#  ########### Medición del entrenamiento ######################\n",
    "Y_pred = modelo.predict(X_train)\n",
    "score = modelo.score(X_train, Y_train)\n",
    "\n",
    "# \"invierte\" la transformacion binaria para obtener los nombres de las clases\n",
    "Y_it = binarizer.inverse_transform(Y_train)\n",
    "Y_pred_it = binarizer.inverse_transform(Y_pred)\n",
    "\n",
    "# calculo manual del accuracy\n",
    "print('Efectividad: %6.2f%%' % (100*(Y_pred_it == Y_it).sum()/len(Y_it)) )\n",
    "print('      Score: %6.2f%%' % (score) )\n",
    "\n",
    "plt.plot(modelo.loss_curve_)"
   ],
   "metadata": {
    "colab": {
     "base_uri": "https://localhost:8080/",
     "height": 317
    },
    "id": "WFr6IoGQBcvr",
    "executionInfo": {
     "status": "ok",
     "timestamp": 1668836955777,
     "user_tz": 180,
     "elapsed": 1220,
     "user": {
      "displayName": "Cesar Estrebou",
      "userId": "12510511812709829812"
     }
    },
    "outputId": "f3a5cb2a-6c2d-42e6-c8c8-bcb918180baa",
    "ExecuteTime": {
     "end_time": "2024-09-24T02:48:36.888624Z",
     "start_time": "2024-09-24T02:48:36.794334Z"
    }
   },
   "outputs": [
    {
     "name": "stdout",
     "output_type": "stream",
     "text": [
      "Efectividad:  91.43%\n",
      "      Score:   0.87%\n"
     ]
    },
    {
     "data": {
      "text/plain": [
       "[<matplotlib.lines.Line2D at 0x160242bd0>]"
      ]
     },
     "execution_count": 7,
     "metadata": {},
     "output_type": "execute_result"
    },
    {
     "data": {
      "text/plain": [
       "<Figure size 640x480 with 1 Axes>"
      ],
      "image/png": "[encoded data removed]"
     },
     "metadata": {},
     "output_type": "display_data"
    }
   ],
   "execution_count": 7
  },
  {
   "cell_type": "code",
   "source": [
    "#  ########### Medición del testeo ######################\n",
    "Y_pred = modelo.predict(X_test)\n",
    "score = modelo.score(X_test, Y_test)\n",
    "\n",
    "# \"invierte\" la transformacion binaria para obtener los nombres de las clases\n",
    "Y_it = binarizer.inverse_transform(Y_test)\n",
    "Y_pred_it = binarizer.inverse_transform(Y_pred)\n",
    "\n",
    "# calculo manual del accuracy\n",
    "print('Efectividad: %6.2f%%' % (100*(Y_pred_it == Y_it).sum()/len(Y_it)) )\n",
    "print('      Score: %6.2f%%' % (score) )"
   ],
   "metadata": {
    "colab": {
     "base_uri": "https://localhost:8080/"
    },
    "id": "9sHU6LrTMPuF",
    "executionInfo": {
     "status": "ok",
     "timestamp": 1668836814463,
     "user_tz": 180,
     "elapsed": 443,
     "user": {
      "displayName": "Cesar Estrebou",
      "userId": "12510511812709829812"
     }
    },
    "outputId": "fd1d0763-f6be-455b-aeda-2d4bd20a3df4",
    "ExecuteTime": {
     "end_time": "2024-09-24T02:48:36.986091Z",
     "start_time": "2024-09-24T02:48:36.981084Z"
    }
   },
   "outputs": [
    {
     "name": "stdout",
     "output_type": "stream",
     "text": [
      "Efectividad:  93.55%\n",
      "      Score:   0.94%\n"
     ]
    }
   ],
   "execution_count": 8
  }
 ]
}
