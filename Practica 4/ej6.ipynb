{
 "cells": [
  {
   "cell_type": "code",
   "id": "initial_id",
   "metadata": {
    "collapsed": true,
    "ExecuteTime": {
     "end_time": "2024-09-24T13:27:19.197231Z",
     "start_time": "2024-09-24T13:27:19.190007Z"
    }
   },
   "source": [
    "%matplotlib inline\n",
    "import pandas as pd\n",
    "import numpy as np\n",
    "from sklearn import preprocessing, metrics, model_selection\n",
    "import time\n",
    "#from matplotlib import pyplot as plt\n",
    "from matplotlib import pylab as plt\n",
    "from sklearn.neural_network import MLPClassifier\n"
   ],
   "outputs": [],
   "execution_count": 53
  },
  {
   "metadata": {
    "ExecuteTime": {
     "end_time": "2024-09-24T13:39:58.958009Z",
     "start_time": "2024-09-24T13:39:58.934179Z"
    }
   },
   "cell_type": "code",
   "source": [
    "df = pd.read_csv(\"../Datos/Segment_Train.csv\")\n",
    "X_raw = np.array(df.iloc[:,1:])\n",
    "Y_raw = df.iloc[:,0].values\n",
    "\n",
    "\n",
    "# Binarizador para convertir el nombre de la clase en one hot encoding\n",
    "binarizer = preprocessing.LabelBinarizer()\n",
    "\n",
    "# Binariza cada clase como una combinación de un 1 y 0s\n",
    "Y_raw = binarizer.fit_transform(Y_raw)\n",
    "print('Las clases del dataset son :', binarizer.classes_)\n",
    "\n",
    "# Escala los atributos de los ejemplo\n",
    "scaler = preprocessing.StandardScaler()\n",
    "#scaler = preprocessing.MinMaxScaler()\n",
    "X_raw  = scaler.fit_transform( X_raw )\n",
    "\n",
    "# No vamos a separar en testeo y entrenamiento ya que nos piden que usemos dos csv directamente para cada cosa\n",
    "print(\"Datos de entrenamiento %d\",len(X_raw))"
   ],
   "id": "8ace1c3011b67ba6",
   "outputs": [
    {
     "name": "stdout",
     "output_type": "stream",
     "text": [
      "['GRASS' 'GRASS' 'GRASS' ... 'CEMENT' 'CEMENT' 'CEMENT']\n",
      "Las clases del dataset son : ['BRICKFACE' 'CEMENT' 'FOLIAGE' 'GRASS' 'PATH' 'SKY' 'WINDOW']\n",
      "Datos de entrenamiento %d 2100\n"
     ]
    }
   ],
   "execution_count": 63
  },
  {
   "metadata": {
    "ExecuteTime": {
     "end_time": "2024-09-24T13:27:22.988524Z",
     "start_time": "2024-09-24T13:27:19.234409Z"
    }
   },
   "cell_type": "code",
   "source": [
    "\n",
    "\n",
    "for _ in range (10):\n",
    "    \n",
    "    FunH = 'identity'   # identity logistic tanh relu\n",
    "    ocultas = (8)\n",
    "\n",
    "    alfa = 0.001\n",
    "    MAX_ITE = 1300\n",
    "\n",
    "    modelo = MLPClassifier(max_iter=MAX_ITE, hidden_layer_sizes=ocultas, alpha=alfa,\n",
    "                           solver='sgd', activation=FunH, tol=0.001,\n",
    "                           verbose=False).fit(X_raw, Y_raw)\n",
    "\n",
    "    modelo.out_activation_ = 'softmax'\n",
    "\n",
    "    #  ########### Medición del entrenamiento ######################\n",
    "    score = modelo.score(X_raw, Y_raw)\n",
    "\n",
    "    # calculo manual del accuracy\n",
    "    print('      Score: %6.2f%%' % (score) )\n",
    "\n",
    "    plt.plot(modelo.loss_curve_)\n"
   ],
   "id": "8fd5b691884792e5",
   "outputs": [
    {
     "name": "stdout",
     "output_type": "stream",
     "text": [
      "      Score:   0.89%\n",
      "      Score:   0.88%\n",
      "      Score:   0.89%\n",
      "      Score:   0.89%\n",
      "      Score:   0.88%\n",
      "      Score:   0.89%\n",
      "      Score:   0.88%\n",
      "      Score:   0.89%\n",
      "      Score:   0.89%\n",
      "      Score:   0.88%\n"
     ]
    }
   ],
   "execution_count": 55
  },
  {
   "metadata": {
    "ExecuteTime": {
     "end_time": "2024-09-24T13:41:28.015469Z",
     "start_time": "2024-09-24T13:41:27.998754Z"
    }
   },
   "cell_type": "code",
   "source": [
    "#Ahora vamos a probar con los datos de testeo\n",
    "df_test = pd.read_csv(\"../Datos/Segment_Test.csv\")\n",
    "X_raw_test = np.array(df_test.iloc[:,1:])\n",
    "Y_raw_test = df_test.iloc[:,0].values\n",
    "\n",
    "# Binariza cada clase como una combinación de un 1 y 0s\n",
    "Y_raw_test = binarizer.transform(Y_raw_test)\n",
    "print('Las clases del dataset son :', binarizer.classes_)\n",
    "\n",
    "# Escala los atributos de los ejemplo\n",
    "#scaler = preprocessing.MinMaxScaler()\n",
    "X_raw_test  = scaler.transform( X_raw_test )\n",
    "\n",
    "# No vamos a separar en testeo y entrenamiento ya que nos piden que usemos dos csv directamente para cada cosa\n",
    "print(\"Datos de entrenamiento %d\",len(X_raw_test))\n",
    "\n"
   ],
   "id": "fc35d1a36418569a",
   "outputs": [
    {
     "name": "stdout",
     "output_type": "stream",
     "text": [
      "['BRICKFACE' 'BRICKFACE' 'BRICKFACE' 'BRICKFACE' 'BRICKFACE' 'BRICKFACE'\n",
      " 'BRICKFACE' 'BRICKFACE' 'BRICKFACE' 'BRICKFACE' 'BRICKFACE' 'BRICKFACE'\n",
      " 'BRICKFACE' 'BRICKFACE' 'BRICKFACE' 'BRICKFACE' 'BRICKFACE' 'BRICKFACE'\n",
      " 'BRICKFACE' 'BRICKFACE' 'BRICKFACE' 'BRICKFACE' 'BRICKFACE' 'BRICKFACE'\n",
      " 'BRICKFACE' 'BRICKFACE' 'BRICKFACE' 'BRICKFACE' 'BRICKFACE' 'BRICKFACE'\n",
      " 'SKY' 'SKY' 'SKY' 'SKY' 'SKY' 'SKY' 'SKY' 'SKY' 'SKY' 'SKY' 'SKY' 'SKY'\n",
      " 'SKY' 'SKY' 'SKY' 'SKY' 'SKY' 'SKY' 'SKY' 'SKY' 'SKY' 'SKY' 'SKY' 'SKY'\n",
      " 'SKY' 'SKY' 'SKY' 'SKY' 'SKY' 'SKY' 'FOLIAGE' 'FOLIAGE' 'FOLIAGE'\n",
      " 'FOLIAGE' 'FOLIAGE' 'FOLIAGE' 'FOLIAGE' 'FOLIAGE' 'FOLIAGE' 'FOLIAGE'\n",
      " 'FOLIAGE' 'FOLIAGE' 'FOLIAGE' 'FOLIAGE' 'FOLIAGE' 'FOLIAGE' 'FOLIAGE'\n",
      " 'FOLIAGE' 'FOLIAGE' 'FOLIAGE' 'FOLIAGE' 'FOLIAGE' 'FOLIAGE' 'FOLIAGE'\n",
      " 'FOLIAGE' 'FOLIAGE' 'FOLIAGE' 'FOLIAGE' 'FOLIAGE' 'FOLIAGE' 'CEMENT'\n",
      " 'CEMENT' 'CEMENT' 'CEMENT' 'CEMENT' 'CEMENT' 'CEMENT' 'CEMENT' 'CEMENT'\n",
      " 'CEMENT' 'CEMENT' 'CEMENT' 'CEMENT' 'CEMENT' 'CEMENT' 'CEMENT' 'CEMENT'\n",
      " 'CEMENT' 'CEMENT' 'CEMENT' 'CEMENT' 'CEMENT' 'CEMENT' 'CEMENT' 'CEMENT'\n",
      " 'CEMENT' 'CEMENT' 'CEMENT' 'CEMENT' 'CEMENT' 'WINDOW' 'WINDOW' 'WINDOW'\n",
      " 'WINDOW' 'WINDOW' 'WINDOW' 'WINDOW' 'WINDOW' 'WINDOW' 'WINDOW' 'WINDOW'\n",
      " 'WINDOW' 'WINDOW' 'WINDOW' 'WINDOW' 'WINDOW' 'WINDOW' 'WINDOW' 'WINDOW'\n",
      " 'WINDOW' 'WINDOW' 'WINDOW' 'WINDOW' 'WINDOW' 'WINDOW' 'WINDOW' 'WINDOW'\n",
      " 'WINDOW' 'WINDOW' 'WINDOW' 'PATH' 'PATH' 'PATH' 'PATH' 'PATH' 'PATH'\n",
      " 'PATH' 'PATH' 'PATH' 'PATH' 'PATH' 'PATH' 'PATH' 'PATH' 'PATH' 'PATH'\n",
      " 'PATH' 'PATH' 'PATH' 'PATH' 'PATH' 'PATH' 'PATH' 'PATH' 'PATH' 'PATH'\n",
      " 'PATH' 'PATH' 'PATH' 'PATH' 'GRASS' 'GRASS' 'GRASS' 'GRASS' 'GRASS'\n",
      " 'GRASS' 'GRASS' 'GRASS' 'GRASS' 'GRASS' 'GRASS' 'GRASS' 'GRASS' 'GRASS'\n",
      " 'GRASS' 'GRASS' 'GRASS' 'GRASS' 'GRASS' 'GRASS' 'GRASS' 'GRASS' 'GRASS'\n",
      " 'GRASS' 'GRASS' 'GRASS' 'GRASS' 'GRASS' 'GRASS' 'GRASS']\n",
      "Las clases del dataset son : ['BRICKFACE' 'CEMENT' 'FOLIAGE' 'GRASS' 'PATH' 'SKY' 'WINDOW']\n",
      "Datos de entrenamiento %d 210\n",
      "[[ 0.20674434  0.02641459  0.         ... -0.87163172  0.51827513\n",
      "   0.1576055 ]\n",
      " [ 0.86571128  0.16574433  0.         ... -0.8560882   0.48738824\n",
      "   0.28520421]\n",
      " [-0.27375239  0.27024162  0.         ... -0.8768129   0.46132757\n",
      "   0.25856498]\n",
      " ...\n",
      " [ 0.98926758  1.95961461  0.         ... -0.62034505 -0.5890043\n",
      "   2.69118463]\n",
      " [ 1.14028083  2.02927948  0.         ... -0.62034505 -0.02468566\n",
      "   2.43384264]\n",
      " [ 1.346208    1.07138758  0.         ... -0.64366031  0.0795032\n",
      "   2.07524818]]\n"
     ]
    }
   ],
   "execution_count": 66
  },
  {
   "metadata": {
    "ExecuteTime": {
     "end_time": "2024-09-24T13:43:07.455807Z",
     "start_time": "2024-09-24T13:43:07.448676Z"
    }
   },
   "cell_type": "code",
   "source": [
    "score = modelo.score(X_raw_test, Y_raw_test)\n",
    "\n",
    "# calculo manual del accuracy\n",
    "print('      Score: %6.2f%%' % (score) )\n",
    "\n"
   ],
   "id": "c31ef57c9c66257f",
   "outputs": [
    {
     "name": "stdout",
     "output_type": "stream",
     "text": [
      "      Score:   0.90%\n"
     ]
    }
   ],
   "execution_count": 69
  },
  {
   "metadata": {},
   "cell_type": "code",
   "outputs": [],
   "execution_count": null,
   "source": "",
   "id": "9406a3bb733001ab"
  }
 ],
 "metadata": {
  "kernelspec": {
   "display_name": "Python 3",
   "language": "python",
   "name": "python3"
  },
  "language_info": {
   "codemirror_mode": {
    "name": "ipython",
    "version": 2
   },
   "file_extension": ".py",
   "mimetype": "text/x-python",
   "name": "python",
   "nbconvert_exporter": "python",
   "pygments_lexer": "ipython2",
   "version": "2.7.6"
  }
 },
 "nbformat": 4,
 "nbformat_minor": 5
}
