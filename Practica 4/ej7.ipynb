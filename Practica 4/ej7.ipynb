{
 "cells": [
  {
   "cell_type": "code",
   "id": "initial_id",
   "metadata": {
    "collapsed": true
   },
   "source": [
    "import pandas as pd      # para trabajar con archivos de datos csv, excel, etc: https://pandas.pydata.org/docs/getting_started/tutorials.html\n",
    "import chardet           # para detectar la codificación de texto en archivos\n",
    "import numpy as np\n",
    "\n",
    "from sklearn import preprocessing, model_selection, metrics\n",
    "from sklearn.neural_network import MLPClassifier\n",
    "\n",
    "from matplotlib import pyplot as plt\n",
    "\n",
    "nombre_archivo = '../Datos/Balance.csv' # archivo de hojas\n",
    "\n",
    "#-- detectando la codificación de caracteres usada ----\n",
    "with open(nombre_archivo, 'rb') as f:\n",
    "    result = chardet.detect(f.read())  # or readline if the file is large\n",
    "\n",
    "# recupera el archivo en un objeto dataframe de pandas utilizando la codificación detectada\n",
    "# %% Carga de dataset con formato R, G, B, Color\n",
    "df = pd.read_csv(nombre_archivo, encoding=result['encoding'])\n",
    "\n",
    "# Para hacer una inspección rápida de los datos\n",
    "print(df.head())\n",
    "print(df.describe())\n",
    "# df['Balance'].hist(bins=3)\n"
   ],
   "outputs": [],
   "execution_count": null
  },
  {
   "metadata": {},
   "cell_type": "code",
   "source": [
    "# %% separa atributos y clases\n",
    "X_raw = np.array(df.iloc[:,1:])  # recupera todas las columnas salvo la primera (es la clase)\n",
    "Y_raw = np.array(df.iloc[:,-1])    # recupera solo la última columna (es la clase)\n",
    "\n",
    "# Binarizador para convertir el nombre de la clase en one hot encoding\n",
    "binarizer = preprocessing.LabelBinarizer()\n",
    "\n",
    "# Binariza cada clase como una combinación de un 1 y 0s\n",
    "Y_raw = binarizer.fit_transform(Y_raw)\n",
    "# Y_raw==pd.get_dummies(df[' Balance']).to_numpy() # forma alternativa para codificar\n",
    "\n",
    "print('Las clases del dataset son :', binarizer.classes_)\n",
    "print(Y_raw)\n",
    "# Escala los atributos de los ejemplo\n",
    "scaler = preprocessing.StandardScaler()\n",
    "#scaler = preprocessing.MinMaxScaler()\n",
    "X_raw  = scaler.fit_transform( X_raw )\n",
    "\n",
    "# %% Separa ejemplos para enternamiento y testeo\n",
    "TEST_SIZE = 0.3 # proporcion entre testeo entre entrenamiento y testeo\n",
    "X_train, X_test, Y_train, Y_test = model_selection.train_test_split(X_raw, Y_raw, test_size=TEST_SIZE)#, random_state=42)\n",
    "\n",
    "print('\\nDatos de Entrenamiento: %d   Datos de Testeo: %d' % (len(Y_train), len(Y_test) ))\n"
   ],
   "id": "6a018156d2441105",
   "outputs": [],
   "execution_count": null
  },
  {
   "metadata": {},
   "cell_type": "code",
   "source": [
    "import tensorflow as tf\n",
    "from tensorflow.keras.models import Sequential\n",
    "from tensorflow.keras.utils import to_categorical\n",
    "from tensorflow.keras.layers import Dense, Flatten, Input\n",
    "from tensorflow.keras import optimizers\n",
    "\n",
    "ENTRADAS = X_train.shape[1]\n",
    "OCULTAS = 8\n",
    "SALIDAS = Y_train.shape[1]\n",
    "ACTIVACION = 'tanh'  # identity logistic tanh relu\n",
    "\n",
    "#OPTIMIZADOR = 'sgd'\n",
    "\n",
    "print(X_train.shape)\n",
    "print(X_test.shape)\n",
    "\n",
    "EPOCAS = 500\n",
    "TAM_LOTE = 32\n",
    "ALFA = 0.005\n",
    "CotaError = 1.0e-5\n",
    "MAX_ITE = 2500\n",
    "\n",
    "modelo = Sequential()\n",
    "modelo.add(Dense(OCULTAS, activation=ACTIVACION, input_dim=ENTRADAS))\n",
    "modelo.add(Dense(SALIDAS, activation='softmax'))\n",
    "\n",
    "modelo.summary()\n",
    "\n",
    "optimizador = optimizers.SGD(learning_rate=ALFA)\n",
    "# obtiene la arquitectura para el modelo y lo compila\n",
    "modelo.compile(optimizer=optimizador, loss='categorical_crossentropy', metrics=['accuracy'])\n",
    "\n",
    "# Entrena el modelo y guarda la historia del progreso    \n",
    "history = modelo.fit(x=X_train, y=Y_train, batch_size=TAM_LOTE, epochs=EPOCAS)\n",
    "\n"
   ],
   "id": "5bc10d08442730c",
   "outputs": [],
   "execution_count": null
  },
  {
   "metadata": {
    "ExecuteTime": {
     "end_time": "2024-09-30T02:18:37.844013Z",
     "start_time": "2024-09-30T02:18:37.801569Z"
    }
   },
   "cell_type": "code",
   "source": [
    "#  ########### Medición del entrenamiento ######################\n",
    "Y_pred = modelo.predict(X_test)\n",
    "\n",
    "Y_it = binarizer.inverse_transform(Y_test)\n",
    "Y_pred_it = binarizer.inverse_transform(Y_pred)\n",
    "\n",
    "report = metrics.classification_report(Y_it, Y_pred_it)\n",
    "print(report)\n"
   ],
   "id": "cb672d2acc868440",
   "outputs": [
    {
     "name": "stdout",
     "output_type": "stream",
     "text": [
      "\u001B[1m6/6\u001B[0m \u001B[32m━━━━━━━━━━━━━━━━━━━━\u001B[0m\u001B[37m\u001B[0m \u001B[1m0s\u001B[0m 451us/step\n",
      "              precision    recall  f1-score   support\n",
      "\n",
      "           1       1.00      1.00      1.00        41\n",
      "           2       1.00      1.00      1.00        39\n",
      "           3       1.00      1.00      1.00        39\n",
      "           4       1.00      1.00      1.00        35\n",
      "           5       1.00      1.00      1.00        34\n",
      "\n",
      "    accuracy                           1.00       188\n",
      "   macro avg       1.00      1.00      1.00       188\n",
      "weighted avg       1.00      1.00      1.00       188\n",
      "\n"
     ]
    }
   ],
   "execution_count": 8
  },
  {
   "metadata": {},
   "cell_type": "code",
   "source": "",
   "id": "d4c543777efc1528",
   "outputs": [],
   "execution_count": null
  }
 ],
 "metadata": {
  "kernelspec": {
   "display_name": "Python 3",
   "language": "python",
   "name": "python3"
  },
  "language_info": {
   "codemirror_mode": {
    "name": "ipython",
    "version": 2
   },
   "file_extension": ".py",
   "mimetype": "text/x-python",
   "name": "python",
   "nbconvert_exporter": "python",
   "pygments_lexer": "ipython2",
   "version": "2.7.6"
  }
 },
 "nbformat": 4,
 "nbformat_minor": 5
}
