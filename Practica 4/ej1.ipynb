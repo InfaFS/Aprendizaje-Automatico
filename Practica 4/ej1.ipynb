{
 "cells": [
  {
   "cell_type": "code",
   "id": "initial_id",
   "metadata": {
    "collapsed": true,
    "ExecuteTime": {
     "end_time": "2024-09-24T00:59:36.146656Z",
     "start_time": "2024-09-24T00:59:36.093280Z"
    }
   },
   "source": [
    "import numpy as np\n",
    "np.array([[17,0,1,0,1],[0,12,0,0,0],[0,0,12,0,0],[2,0,0,38,0],[0,8,0,0,61]])\n",
    "\n",
    "# Se usaron 152 ejemplos\n",
    "# El perceptron puede reconocer hasta 5 clases\n",
    "# La prediccion total es la suma de todas las predicciones correctas\n",
    "# (tambien lo podemos pensar como los elementos de la diagonal principal) dividido el total de ejemplos\n",
    "# En este caso vamos por cada clase\n",
    "# Clase 0 = 17 / 17 + 2 = 17 / 19 ~~ 0.89\n",
    "# Clase 1 = 12 / 20 = 0.6\n",
    "# Clase 2 = 13 / 13 = 0.92\n",
    "# Clase 3 = 38 / 38 = 1\n",
    "# Clase 4 = 61 / 62 = 0.98\n",
    "\n",
    "# Suma de todas las probabilidades dividido 5 = 0.92\n",
    "\n",
    "#El recall es el numero de ejemplos true positive dividido los demas ejemplos de la fila \n",
    "# Clase 0 = 17 / 17 + 2 = 0.89 \n",
    "# Clase 1 = 12 / 12 = 1\n",
    "# Clase 2 = 12 / 12 = 1\n",
    "# Clase 3 = 38 / 40 = 0.95\n",
    "# Clase 4 = 61 / 69 = 0.88\n",
    "\n",
    "#Obtenemos los valores haiendo F1 = 2 * (precision x recall)/ precision + recall\n",
    "# La clase con el mejor F1-score es la Clase 3, con un valor de 0.9744."
   ],
   "outputs": [],
   "execution_count": 1
  },
  {
   "metadata": {},
   "cell_type": "code",
   "outputs": [],
   "execution_count": null,
   "source": "",
   "id": "b838cbc6beb022e4"
  }
 ],
 "metadata": {
  "kernelspec": {
   "display_name": "Python 3",
   "language": "python",
   "name": "python3"
  },
  "language_info": {
   "codemirror_mode": {
    "name": "ipython",
    "version": 2
   },
   "file_extension": ".py",
   "mimetype": "text/x-python",
   "name": "python",
   "nbconvert_exporter": "python",
   "pygments_lexer": "ipython2",
   "version": "2.7.6"
  }
 },
 "nbformat": 4,
 "nbformat_minor": 5
}
