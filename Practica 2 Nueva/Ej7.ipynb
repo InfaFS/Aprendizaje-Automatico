{
 "cells": [
  {
   "cell_type": "code",
   "execution_count": 103,
   "metadata": {},
   "outputs": [],
   "source": [
    "import pandas as pd\n",
    "import numpy as np\n",
    "from matplotlib import pylab as plt\n",
    "\n",
    "from sklearn import model_selection,preprocessing\n",
    "from sklearn import  metrics\n",
    "from ClassPerceptron import Perceptron"
   ]
  },
  {
   "cell_type": "code",
   "execution_count": 104,
   "metadata": {},
   "outputs": [
    {
     "name": "stdout",
     "output_type": "stream",
     "text": [
      "(205, 12)\n",
      "(197, 12)\n",
      "             curb-weight  engine-size  horsepower  city-mpg  highway-mpg  \\\n",
      "curb-weight     1.000000     0.848932    0.759925 -0.755559    -0.800113   \n",
      "engine-size     0.848932     1.000000    0.825286 -0.655737    -0.684662   \n",
      "horsepower      0.759925     0.825286    1.000000 -0.821960    -0.803658   \n",
      "city-mpg       -0.755559    -0.655737   -0.821960  1.000000     0.972407   \n",
      "highway-mpg    -0.800113    -0.684662   -0.803658  0.972407     1.000000   \n",
      "price           0.834732     0.873708    0.811953 -0.692948    -0.708659   \n",
      "volume          0.822823     0.592571    0.449278 -0.554978    -0.608072   \n",
      "eco-rating     -0.842957    -0.723965   -0.839619  0.976650     0.984258   \n",
      "\n",
      "                price    volume  eco-rating  \n",
      "curb-weight  0.834732  0.822823   -0.842957  \n",
      "engine-size  0.873708  0.592571   -0.723965  \n",
      "horsepower   0.811953  0.449278   -0.839619  \n",
      "city-mpg    -0.692948 -0.554978    0.976650  \n",
      "highway-mpg -0.708659 -0.608072    0.984258  \n",
      "price        1.000000  0.631578   -0.747982  \n",
      "volume       0.631578  1.000000   -0.598520  \n",
      "eco-rating  -0.747982 -0.598520    1.000000  \n"
     ]
    }
   ],
   "source": [
    "datos = pd.read_csv(\"automobile-simple.csv\")\n",
    "\n",
    "#marca --> Nominal\n",
    "#combustible --> Nominal\n",
    "#puertas --> discreto\n",
    "#body-style --> Nominal\n",
    "#Peso en vacio --> Continuo\n",
    "#Engine size --> Continuo\n",
    "#Horsepower --> Continuo\n",
    "#Rendimiento en la ciudad --> Continuo\n",
    "#Precio --> Continuo\n",
    "#Volumen del auto --> Discreto / Continuo si lo consideramos que es una funcion matematica y varia en un rango\n",
    "#Eco rating --> Discreto / Ordinal si lo consideramos como una calificacion\n",
    "print(datos.shape)\n",
    "datos = datos.dropna()\n",
    "print(datos.shape)\n",
    "\n",
    "numerical_data = datos.select_dtypes(include=['number'])\n",
    "\n",
    "correlation_matrix = numerical_data.corr()\n",
    "print(correlation_matrix)\n",
    "\n",
    "#Eliminamos atributos fuertemente relacionados \n",
    "#Positivos\n",
    "# numerical_data.drop('curb-weight',axis=1,inplace=True)\n",
    "# numerical_data.drop('engine-size',axis=1,inplace=True)\n",
    "\n",
    "#Negativos\n",
    "numerical_data.drop('highway-mpg',axis=1,inplace=True)\n",
    "numerical_data.drop('horsepower',axis=1,inplace=True)"
   ]
  },
  {
   "cell_type": "code",
   "execution_count": 114,
   "metadata": {},
   "outputs": [],
   "source": [
    "#Seleccion de datos\n",
    "X = np.array(numerical_data.iloc[:,:-1])\n",
    "T = np.array(numerical_data['eco-rating'])\n",
    "media_eco_rating = T.mean()\n",
    "\n",
    "T = np.array(T > media_eco_rating) * 1\n",
    "\n"
   ]
  },
  {
   "cell_type": "code",
   "execution_count": 117,
   "metadata": {},
   "outputs": [],
   "source": [
    "#Normalizado con standard\n",
    "normalizador= preprocessing.StandardScaler()\n",
    "X= normalizador.fit_transform(X)"
   ]
  },
  {
   "cell_type": "code",
   "execution_count": 111,
   "metadata": {},
   "outputs": [],
   "source": [
    "#Normalizado con 0 to 1 \n",
    "normalizador= preprocessing.MinMaxScaler()\n",
    "X= normalizador.fit_transform(X)"
   ]
  },
  {
   "cell_type": "code",
   "execution_count": 118,
   "metadata": {},
   "outputs": [
    {
     "data": {
      "text/plain": [
       "<ClassPerceptron.Perceptron at 0x2063bee8d70>"
      ]
     },
     "execution_count": 118,
     "metadata": {},
     "output_type": "execute_result"
    }
   ],
   "source": [
    "ppn = Perceptron(alpha=0.05, n_iter=200, draw=0, random_state=None)\n",
    "ppn.fit(X,T)"
   ]
  },
  {
   "cell_type": "code",
   "execution_count": 119,
   "metadata": {},
   "outputs": [
    {
     "name": "stdout",
     "output_type": "stream",
     "text": [
      "% accuracy = 91.371\n"
     ]
    }
   ],
   "source": [
    "Y = ppn.predict(X)\n",
    "aciertos = metrics.accuracy_score(Y,T)\n",
    "print(\"%% accuracy = %.3f\" % (aciertos * 100))\n",
    "\n",
    "#Sin normalizar -> aprox 50% de aciertosr\n",
    "#Normalizando -> 100% de aciertos\n",
    "\n",
    "#Cuando eliminamos atributos fuertemente relacionados cercanos a 1 disminuye la efectividad en un 4%\n",
    "#Cuando eliminamos cercanos a -1, la efectividad disminuye entre un 6 y un 10% en algunos casos"
   ]
  },
  {
   "cell_type": "code",
   "execution_count": null,
   "metadata": {},
   "outputs": [],
   "source": []
  }
 ],
 "metadata": {
  "kernelspec": {
   "display_name": "base",
   "language": "python",
   "name": "python3"
  },
  "language_info": {
   "codemirror_mode": {
    "name": "ipython",
    "version": 3
   },
   "file_extension": ".py",
   "mimetype": "text/x-python",
   "name": "python",
   "nbconvert_exporter": "python",
   "pygments_lexer": "ipython3",
   "version": "3.12.4"
  }
 },
 "nbformat": 4,
 "nbformat_minor": 2
}
