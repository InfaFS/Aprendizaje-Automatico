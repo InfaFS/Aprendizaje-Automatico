{
 "cells": [
  {
   "cell_type": "code",
   "execution_count": 4,
   "metadata": {},
   "outputs": [
    {
     "name": "stdout",
     "output_type": "stream",
     "text": [
      "El coeficiente de correlación es: -0.7150969419341943\n",
      "[[ 1.         -0.71509694]\n",
      " [-0.71509694  1.        ]]\n"
     ]
    }
   ],
   "source": [
    "import numpy as np\n",
    "\n",
    "# Dos listas de datos\n",
    "x = [55, 56, 58, 56, 59,57,60,53,59]\n",
    "y = [3,2,2,1,1,2,1,3,2]\n",
    "\n",
    "# Calcular el coeficiente de correlación de Pearson\n",
    "correlation_coefficient = np.corrcoef(x, y)[0, 1]\n",
    "correlation_coefficient_matrix = np.corrcoef(x, y)\n",
    "print(\"El coeficiente de correlación es:\", correlation_coefficient)\n",
    "print(correlation_coefficient_matrix)"
   ]
  },
  {
   "cell_type": "code",
   "execution_count": 2,
   "metadata": {},
   "outputs": [
    {
     "name": "stdout",
     "output_type": "stream",
     "text": [
      "El coeficiente de correlación es: [[1. 1.]\n",
      " [1. 1.]]\n"
     ]
    }
   ],
   "source": [
    "import numpy as np\n",
    "\n",
    "# Dos listas de datos\n",
    "x = [10, 20, 30, 40, 50]\n",
    "y = [15, 25, 35, 45, 55]\n",
    "\n",
    "# Calcular el coeficiente de correlación de Pearson\n",
    "correlation_coefficient = np.corrcoef(x, y)\n",
    "\n",
    "print(\"El coeficiente de correlación es:\", correlation_coefficient)"
   ]
  },
  {
   "cell_type": "code",
   "execution_count": 10,
   "metadata": {},
   "outputs": [
    {
     "name": "stdout",
     "output_type": "stream",
     "text": [
      "[44.5328 45.2658 46.8798 45.1918 47.6128 46.0728 48.4198 42.9188 47.6868]\n"
     ]
    }
   ],
   "source": [
    "W = np.array([0.807,0.074])\n",
    "b = -0.0742\n",
    "\n",
    "x = [55, 56, 58, 56, 59,57,60,53,59]\n",
    "y = [3,2,2,1,1,2,1,3,2]\n",
    "X = np.array([[55,3],[56,2],[58,2],[56,1],[59,1],[57,2],[60,1],[53,3],[59,2]])\n",
    "\n",
    "\n",
    "predict = np.dot(X,W) + b\n",
    "print(predict)"
   ]
  },
  {
   "cell_type": "code",
   "execution_count": 18,
   "metadata": {},
   "outputs": [
    {
     "name": "stdout",
     "output_type": "stream",
     "text": [
      "X normalizado:\n",
      " [[0.28571429 1.        ]\n",
      " [0.42857143 0.5       ]\n",
      " [0.71428571 0.5       ]\n",
      " [0.42857143 0.        ]\n",
      " [0.85714286 0.        ]\n",
      " [0.57142857 0.5       ]\n",
      " [1.         0.        ]\n",
      " [0.         1.        ]\n",
      " [0.85714286 0.5       ]]\n",
      "[ 0.02285714 -0.00261429  0.02044286 -0.03961429 -0.00502857  0.00891429\n",
      "  0.0065     -0.0002      0.03197143]\n",
      "[1 0 1 0 0 1 1 0 1]\n",
      "[1 1 1]\n"
     ]
    }
   ],
   "source": [
    "import numpy as np\n",
    "from sklearn import model_selection,preprocessing\n",
    "\n",
    "# Datos originales\n",
    "W = np.array([0.0807, 0.074])\n",
    "b = -0.0742\n",
    "\n",
    "x = [55, 56, 58, 56, 59,57,60,53,59]\n",
    "y = [3, 2, 2, 1, 1, 2, 1, 3, 2]\n",
    "X = np.array([[55, 3], [56, 2], [58, 2], [56, 1], [59, 1], [57, 2], [60, 1], [53, 3], [59, 2]])\n",
    "\n",
    " #--- Normalización lineal entre 0 y 1 ---\n",
    "normalizador = preprocessing.MinMaxScaler()\n",
    "X = normalizador.fit_transform(X)\n",
    "\n",
    "# Cálculo de la predicción con los datos normalizados\n",
    "input = np.dot(X, W) + b\n",
    "print(\"X normalizado:\\n\", X)\n",
    "print(input)\n",
    "prediction = np.where(input >= 0.0, 1, 0)\n",
    "print(prediction)\n",
    "\n",
    "#Valores para probar\n",
    "X_entry = np.array([[50,1],[51,2],[54,3]])\n",
    "input = np.dot(X_entry , W) + b\n",
    "prediction_dos = np.where(input >= 0.0,1,0)\n",
    "print(prediction_dos)"
   ]
  },
  {
   "cell_type": "code",
   "execution_count": null,
   "metadata": {},
   "outputs": [],
   "source": []
  }
 ],
 "metadata": {
  "kernelspec": {
   "display_name": "base",
   "language": "python",
   "name": "python3"
  },
  "language_info": {
   "codemirror_mode": {
    "name": "ipython",
    "version": 3
   },
   "file_extension": ".py",
   "mimetype": "text/x-python",
   "name": "python",
   "nbconvert_exporter": "python",
   "pygments_lexer": "ipython3",
   "version": "3.12.4"
  }
 },
 "nbformat": 4,
 "nbformat_minor": 2
}
