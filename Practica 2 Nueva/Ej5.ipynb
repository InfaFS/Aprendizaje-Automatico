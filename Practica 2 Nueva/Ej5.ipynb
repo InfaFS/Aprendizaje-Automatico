{
 "cells": [
  {
   "cell_type": "code",
   "execution_count": null,
   "metadata": {},
   "outputs": [],
   "source": [
    "import pandas as pd\n",
    "import numpy as np\n",
    "from matplotlib import pylab as plt\n",
    "\n",
    "from sklearn import model_selection,preprocessing\n",
    "from sklearn import  metrics\n",
    "from ClassPerceptron import Perceptron"
   ]
  },
  {
   "cell_type": "code",
   "execution_count": null,
   "metadata": {},
   "outputs": [],
   "source": [
    "datos = pd.read_csv(\"Semillas.csv\")\n",
    "# mapeo = {'Clase': {'Tipo1':0, 'Tipo2':1,'Tipo3':2}}\n",
    "# datos.replace(mapeo,inplace=True)\n",
    "\n",
    "\n",
    "X = np.array(datos.iloc[:,:-1])\n",
    "print(X)\n",
    "T = np.array(datos['Clase'] == \"Tipo2\") * 1\n",
    "print(T)\n",
    "# T = np.array(datos[\"Clase\"])\n",
    "normalizador= preprocessing.StandardScaler()\n",
    "X= normalizador.fit_transform(X)"
   ]
  },
  {
   "cell_type": "code",
   "execution_count": null,
   "metadata": {},
   "outputs": [],
   "source": [
    "ppn = Perceptron(alpha=0.05, n_iter=200, draw=0, random_state=None)\n",
    "ppn.fit(X,T)"
   ]
  },
  {
   "cell_type": "code",
   "execution_count": null,
   "metadata": {},
   "outputs": [],
   "source": [
    "Y_pred = ppn.predict(X)\n",
    "aciertos = metrics.accuracy_score(Y_pred,T)\n",
    "\n",
    "print(\"%% accuracy = %.3f\" % (aciertos * 100))\n",
    "\n",
    "report = metrics.classification_report(Y_pred,Y_pred)\n",
    "print(\"Resultado de la clasificación:\\n%s\" % report)\n",
    "\n",
    "#Para el tipo 2 Funciona con un 100% de accuracy"
   ]
  },
  {
   "cell_type": "code",
   "execution_count": null,
   "metadata": {},
   "outputs": [],
   "source": []
  }
 ],
 "metadata": {
  "kernelspec": {
   "display_name": "base",
   "language": "python",
   "name": "python3"
  },
  "language_info": {
   "codemirror_mode": {
    "name": "ipython",
    "version": 3
   },
   "file_extension": ".py",
   "mimetype": "text/x-python",
   "name": "python",
   "nbconvert_exporter": "python",
   "pygments_lexer": "ipython3",
   "version": "3.12.4"
  }
 },
 "nbformat": 4,
 "nbformat_minor": 2
}
