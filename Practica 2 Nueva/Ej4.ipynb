{
 "cells": [
  {
   "cell_type": "code",
   "execution_count": 20,
   "metadata": {},
   "outputs": [],
   "source": [
    "import pandas as pd\n",
    "import numpy as np\n",
    "from matplotlib import pylab as plt\n",
    "\n",
    "from sklearn import model_selection,preprocessing\n",
    "from sklearn import  metrics\n",
    "from ClassPerceptron import Perceptron"
   ]
  },
  {
   "cell_type": "code",
   "execution_count": 58,
   "metadata": {},
   "outputs": [
    {
     "name": "stdout",
     "output_type": "stream",
     "text": [
      "     Age  Sex  BP  Cholesterol        Na         K   Drug\n",
      "0     23    1   2            1  0.792535  0.031258  drugY\n",
      "1     47    0   0            1  0.739309  0.056468  drugC\n",
      "2     47    0   0            1  0.697269  0.068944  drugC\n",
      "3     28    1   1            1  0.563682  0.072289  drugX\n",
      "4     61    1   0            1  0.559294  0.030998  drugY\n",
      "..   ...  ...  ..          ...       ...       ...    ...\n",
      "195   56    1   0            1  0.848774  0.073380  drugC\n",
      "196   16    0   0            1  0.743021  0.061886  drugC\n",
      "197   52    0   1            1  0.549945  0.055581  drugX\n",
      "198   23    0   1            0  0.784520  0.055959  drugX\n",
      "199   40    1   0            0  0.683503  0.060226  drugX\n",
      "\n",
      "[200 rows x 7 columns]\n"
     ]
    },
    {
     "name": "stderr",
     "output_type": "stream",
     "text": [
      "C:\\Users\\facus\\AppData\\Local\\Temp\\ipykernel_23836\\265118022.py:9: FutureWarning: Downcasting behavior in `replace` is deprecated and will be removed in a future version. To retain the old behavior, explicitly call `result.infer_objects(copy=False)`. To opt-in to the future behavior, set `pd.set_option('future.no_silent_downcasting', True)`\n",
      "  data.replace(mapeo, inplace=True)\n"
     ]
    }
   ],
   "source": [
    "data = pd.read_csv(\"Drug5.csv\");\n",
    "\n",
    "\n",
    "#-- ordinales a numericos ---\n",
    "mapeo = {'Sex': {'F':1, 'M':0},\n",
    "          'BP':{'HIGH':2, 'NORMAL':1, 'LOW':0},\n",
    "          'Cholesterol':{'NORMAL':0, 'HIGH':1}}\n",
    "\n",
    "data.replace(mapeo, inplace=True)\n",
    "print(data)\n",
    "\n",
    "X = np.array(data.iloc[:,:-1])\n",
    "T = (data['Drug'] == \"drugY\") * 1\n",
    "nColum = [\"DrugY\",\"Another\"]\n",
    "X_train, X_test, T_train, T_test = model_selection.train_test_split( X, T, test_size=0.30, random_state=42 )\n",
    "\n",
    "normalizador = preprocessing.MinMaxScaler()\n",
    "#normalizador= preprocessing.StandardScaler()\n",
    "X_test = normalizador.fit_transform(X_test)\n",
    "X_train = normalizador.fit_transform(X_train)"
   ]
  },
  {
   "cell_type": "code",
   "execution_count": 59,
   "metadata": {},
   "outputs": [
    {
     "data": {
      "text/plain": [
       "<ClassPerceptron.Perceptron at 0x225f9eb47a0>"
      ]
     },
     "execution_count": 59,
     "metadata": {},
     "output_type": "execute_result"
    }
   ],
   "source": [
    "ppn = Perceptron(alpha=0.001, n_iter=100, draw=1, title=nColum[0:2], random_state=None)\n",
    "ppn.fit(X_train, T_train)"
   ]
  },
  {
   "cell_type": "code",
   "execution_count": 60,
   "metadata": {},
   "outputs": [
    {
     "name": "stdout",
     "output_type": "stream",
     "text": [
      "% accuracy = 98.333\n"
     ]
    }
   ],
   "source": [
    "Y_pred = ppn.predict(X_test)\n",
    "aciertos = metrics.accuracy_score(T_test,Y_pred)\n",
    "print(\"%% accuracy = %.3f\" % (aciertos * 100))"
   ]
  },
  {
   "cell_type": "code",
   "execution_count": null,
   "metadata": {},
   "outputs": [],
   "source": []
  },
  {
   "cell_type": "code",
   "execution_count": null,
   "metadata": {},
   "outputs": [],
   "source": []
  }
 ],
 "metadata": {
  "kernelspec": {
   "display_name": "base",
   "language": "python",
   "name": "python3"
  },
  "language_info": {
   "codemirror_mode": {
    "name": "ipython",
    "version": 3
   },
   "file_extension": ".py",
   "mimetype": "text/x-python",
   "name": "python",
   "nbconvert_exporter": "python",
   "pygments_lexer": "ipython3",
   "version": "3.12.4"
  }
 },
 "nbformat": 4,
 "nbformat_minor": 2
}
