{
 "cells": [
  {
   "cell_type": "code",
   "execution_count": 72,
   "id": "ad971116",
   "metadata": {},
   "outputs": [],
   "source": [
    "\n",
    "\n",
    "import pandas as pd\n",
    "import numpy as np\n",
    "from matplotlib import pylab as plt\n",
    "from sklearn import model_selection,preprocessing, metrics\n",
    "from ClassPerceptron import Perceptron"
   ]
  },
  {
   "cell_type": "code",
   "execution_count": 73,
   "id": "04ea1c43",
   "metadata": {},
   "outputs": [
    {
     "name": "stdout",
     "output_type": "stream",
     "text": [
      "    Id       Edad   Prescripcion Astigmatismo  Lagrimas     Diagnostico\n",
      "20  21  Presbicia  Hipermetropía           SI    Normal  No_usar_Lentes\n",
      "7    8      Joven         Miopía           SI  Reducida  No_usar_Lentes\n",
      "11  12  pre_presb  Hipermetropía           SI  Reducida  No_usar_Lentes\n",
      "18  19  Presbicia  Hipermetropía           NO  Reducida  No_usar_Lentes\n",
      "4    5      Joven  Hipermetropía           NO  Reducida  No_usar_Lentes\n",
      "8    9  pre_presb  Hipermetropía           NO    Normal  Lentes_Blandos\n",
      "3    4      Joven         Miopía           SI    Normal    Lentes_Duros\n",
      "21  22  Presbicia         Miopía           NO  Reducida  No_usar_Lentes\n",
      "6    7      Joven         Miopía           NO  Reducida  No_usar_Lentes\n",
      "9   10  pre_presb         Miopía           SI    Normal    Lentes_Duros\n"
     ]
    }
   ],
   "source": [
    "datos = pd.read_csv(\"Lentes.csv\", encoding='latin1')\n",
    "print(datos.sample(10))"
   ]
  },
  {
   "cell_type": "code",
   "execution_count": 74,
   "id": "1a5efb3d",
   "metadata": {},
   "outputs": [
    {
     "name": "stderr",
     "output_type": "stream",
     "text": [
      "C:\\Users\\facus\\AppData\\Local\\Temp\\ipykernel_8836\\2750386258.py:8: FutureWarning: Downcasting behavior in `replace` is deprecated and will be removed in a future version. To retain the old behavior, explicitly call `result.infer_objects(copy=False)`. To opt-in to the future behavior, set `pd.set_option('future.no_silent_downcasting', True)`\n",
      "  datos.replace(mapeo, inplace=True)\n"
     ]
    },
    {
     "data": {
      "text/html": [
       "<div>\n",
       "<style scoped>\n",
       "    .dataframe tbody tr th:only-of-type {\n",
       "        vertical-align: middle;\n",
       "    }\n",
       "\n",
       "    .dataframe tbody tr th {\n",
       "        vertical-align: top;\n",
       "    }\n",
       "\n",
       "    .dataframe thead th {\n",
       "        text-align: right;\n",
       "    }\n",
       "</style>\n",
       "<table border=\"1\" class=\"dataframe\">\n",
       "  <thead>\n",
       "    <tr style=\"text-align: right;\">\n",
       "      <th></th>\n",
       "      <th>Id</th>\n",
       "      <th>Edad</th>\n",
       "      <th>Prescripcion</th>\n",
       "      <th>Diagnostico</th>\n",
       "    </tr>\n",
       "  </thead>\n",
       "  <tbody>\n",
       "    <tr>\n",
       "      <th>0</th>\n",
       "      <td>1</td>\n",
       "      <td>1</td>\n",
       "      <td>0</td>\n",
       "      <td>1</td>\n",
       "    </tr>\n",
       "    <tr>\n",
       "      <th>1</th>\n",
       "      <td>2</td>\n",
       "      <td>1</td>\n",
       "      <td>1</td>\n",
       "      <td>1</td>\n",
       "    </tr>\n",
       "    <tr>\n",
       "      <th>2</th>\n",
       "      <td>3</td>\n",
       "      <td>1</td>\n",
       "      <td>0</td>\n",
       "      <td>0</td>\n",
       "    </tr>\n",
       "    <tr>\n",
       "      <th>3</th>\n",
       "      <td>4</td>\n",
       "      <td>1</td>\n",
       "      <td>1</td>\n",
       "      <td>0</td>\n",
       "    </tr>\n",
       "    <tr>\n",
       "      <th>4</th>\n",
       "      <td>5</td>\n",
       "      <td>1</td>\n",
       "      <td>0</td>\n",
       "      <td>0</td>\n",
       "    </tr>\n",
       "    <tr>\n",
       "      <th>5</th>\n",
       "      <td>6</td>\n",
       "      <td>1</td>\n",
       "      <td>0</td>\n",
       "      <td>0</td>\n",
       "    </tr>\n",
       "    <tr>\n",
       "      <th>6</th>\n",
       "      <td>7</td>\n",
       "      <td>1</td>\n",
       "      <td>1</td>\n",
       "      <td>0</td>\n",
       "    </tr>\n",
       "    <tr>\n",
       "      <th>7</th>\n",
       "      <td>8</td>\n",
       "      <td>1</td>\n",
       "      <td>1</td>\n",
       "      <td>0</td>\n",
       "    </tr>\n",
       "    <tr>\n",
       "      <th>8</th>\n",
       "      <td>9</td>\n",
       "      <td>2</td>\n",
       "      <td>0</td>\n",
       "      <td>1</td>\n",
       "    </tr>\n",
       "    <tr>\n",
       "      <th>9</th>\n",
       "      <td>10</td>\n",
       "      <td>2</td>\n",
       "      <td>1</td>\n",
       "      <td>0</td>\n",
       "    </tr>\n",
       "  </tbody>\n",
       "</table>\n",
       "</div>"
      ],
      "text/plain": [
       "   Id  Edad  Prescripcion  Diagnostico\n",
       "0   1     1             0            1\n",
       "1   2     1             1            1\n",
       "2   3     1             0            0\n",
       "3   4     1             1            0\n",
       "4   5     1             0            0\n",
       "5   6     1             0            0\n",
       "6   7     1             1            0\n",
       "7   8     1             1            0\n",
       "8   9     2             0            1\n",
       "9  10     2             1            0"
      ]
     },
     "execution_count": 74,
     "metadata": {},
     "output_type": "execute_result"
    }
   ],
   "source": [
    "mapeo = {\n",
    "    \"Edad\":{'Joven':1, 'pre_presb':2, 'Presbicia':3},\n",
    "    \"Prescripcion\":{'Hipermetropía':0, 'Miopía':1},\n",
    "    \"Astigmatismo\":{\"SI\":1, \"NO\":0},\n",
    "    \"Lagrimas\":{\"Normal\":1, \"Reducida\":0},\n",
    "    \"Diagnostico\":{'Lentes_Blandos':1, 'Lentes_Duros':0, 'No_usar_Lentes':0}\n",
    "}\n",
    "datos.replace(mapeo, inplace=True)\n",
    "datos.drop(columns=\"Astigmatismo\",inplace=True)\n",
    "datos.drop(columns=\"Lagrimas\",inplace=True)\n",
    "datos.head(10)"
   ]
  },
  {
   "cell_type": "code",
   "execution_count": 75,
   "id": "4c8a8313",
   "metadata": {},
   "outputs": [
    {
     "data": {
      "text/plain": [
       "array([1, 0], dtype=int64)"
      ]
     },
     "execution_count": 75,
     "metadata": {},
     "output_type": "execute_result"
    }
   ],
   "source": [
    "datos.Diagnostico.unique()"
   ]
  },
  {
   "cell_type": "code",
   "execution_count": 76,
   "id": "e018b8e1",
   "metadata": {},
   "outputs": [
    {
     "name": "stdout",
     "output_type": "stream",
     "text": [
      "[1 1 0 0 0 0 0 0 1 0 1 0 0 0 0 0 0 1 0 0 0 0 0 0]\n"
     ]
    }
   ],
   "source": [
    "X = np.array(datos.iloc[:,:-1])\n",
    "T = np.array(datos['Diagnostico'])  \n",
    "print(T)"
   ]
  },
  {
   "cell_type": "code",
   "execution_count": 77,
   "id": "c60661ca",
   "metadata": {},
   "outputs": [
    {
     "name": "stdout",
     "output_type": "stream",
     "text": [
      "[[-1.66132477 -1.22474487 -1.        ]\n",
      " [-1.51686175 -1.22474487  1.        ]\n",
      " [-1.37239873 -1.22474487 -1.        ]\n",
      " [-1.2279357  -1.22474487  1.        ]\n",
      " [-1.08347268 -1.22474487 -1.        ]\n",
      " [-0.93900965 -1.22474487 -1.        ]\n",
      " [-0.79454663 -1.22474487  1.        ]\n",
      " [-0.65008361 -1.22474487  1.        ]\n",
      " [-0.50562058  0.         -1.        ]\n",
      " [-0.36115756  0.          1.        ]\n",
      " [-0.21669454  0.          1.        ]\n",
      " [-0.07223151  0.         -1.        ]\n",
      " [ 0.07223151  0.         -1.        ]\n",
      " [ 0.21669454  0.         -1.        ]\n",
      " [ 0.36115756  0.          1.        ]\n",
      " [ 0.50562058  0.          1.        ]\n",
      " [ 0.65008361  1.22474487  1.        ]\n",
      " [ 0.79454663  1.22474487 -1.        ]\n",
      " [ 0.93900965  1.22474487 -1.        ]\n",
      " [ 1.08347268  1.22474487 -1.        ]\n",
      " [ 1.2279357   1.22474487 -1.        ]\n",
      " [ 1.37239873  1.22474487  1.        ]\n",
      " [ 1.51686175  1.22474487  1.        ]\n",
      " [ 1.66132477  1.22474487  1.        ]]\n"
     ]
    }
   ],
   "source": [
    "normalizador= preprocessing.StandardScaler() #media y desvío\n",
    "X = normalizador.fit_transform(X)\n",
    "print(X)"
   ]
  },
  {
   "cell_type": "code",
   "execution_count": 78,
   "id": "3879e63f",
   "metadata": {},
   "outputs": [
    {
     "data": {
      "image/png": "[encoded data removed]",
      "text/plain": [
       "<Figure size 640x480 with 1 Axes>"
      ]
     },
     "metadata": {},
     "output_type": "display_data"
    }
   ],
   "source": [
    "ppn = Perceptron(alpha=0.05, n_iter=200, random_state=None) #random_state=None significa que no utiliza una semilla para la generación de números aleatorios\n",
    "ppn.fit(X, T)\n",
    "\n",
    "plt.plot(range(1, len(ppn.errors_) + 1), ppn.errors_, marker='*')\n",
    "plt.title('Datos de entrenamiento')\n",
    "plt.xlabel('Iteraciones')\n",
    "plt.ylabel('Cantidad de actualizaciones')\n",
    "plt.show()"
   ]
  },
  {
   "cell_type": "code",
   "execution_count": 79,
   "id": "49079544",
   "metadata": {},
   "outputs": [
    {
     "name": "stdout",
     "output_type": "stream",
     "text": [
      "91.66666666666666\n"
     ]
    }
   ],
   "source": [
    "Y = ppn.predict(X)\n",
    "prediction = metrics.accuracy_score(Y,T)\n",
    "print(prediction * 100)\n"
   ]
  },
  {
   "cell_type": "code",
   "execution_count": 80,
   "id": "9dc062e1",
   "metadata": {},
   "outputs": [
    {
     "name": "stdout",
     "output_type": "stream",
     "text": [
      "                    Id          Edad  Prescripcion  Diagnostico\n",
      "Id            1.000000  9.436285e-01  1.083473e-01    -0.318664\n",
      "Edad          0.943629  1.000000e+00  9.064933e-17    -0.125656\n",
      "Prescripcion  0.108347  9.064933e-17  1.000000e+00    -0.102598\n",
      "Diagnostico  -0.318664 -1.256562e-01 -1.025978e-01     1.000000\n"
     ]
    }
   ],
   "source": [
    "\n",
    "print(datos.corr())"
   ]
  },
  {
   "cell_type": "code",
   "execution_count": null,
   "id": "3049182f",
   "metadata": {},
   "outputs": [],
   "source": []
  }
 ],
 "metadata": {
  "kernelspec": {
   "display_name": "Python 3 (ipykernel)",
   "language": "python",
   "name": "python3"
  },
  "language_info": {
   "codemirror_mode": {
    "name": "ipython",
    "version": 3
   },
   "file_extension": ".py",
   "mimetype": "text/x-python",
   "name": "python",
   "nbconvert_exporter": "python",
   "pygments_lexer": "ipython3",
   "version": "3.12.4"
  }
 },
 "nbformat": 4,
 "nbformat_minor": 5
}
