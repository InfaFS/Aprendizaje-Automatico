{
 "cells": [
  {
   "cell_type": "code",
   "execution_count": null,
   "id": "f3fbf3c3",
   "metadata": {},
   "outputs": [],
   "source": [
    "import numpy as np\n",
    "import time\n",
    "from matplotlib import pylab as plt\n",
    "%matplotlib inline\n",
    "from IPython import display\n",
    "from grafica import *"
   ]
  },
  {
   "cell_type": "code",
   "execution_count": null,
   "id": "b6b4b05f",
   "metadata": {},
   "outputs": [],
   "source": [
    "# Ejemplos de entrada de la función AND\n",
    "X = np.array([[0,0], [0,1],[1,0],[1,1]])\n",
    "\n",
    "#-- Respuesta esperada para cada ejemplo\n",
    "T = np.array([0,0,0,1])"
   ]
  },
  {
   "cell_type": "code",
   "execution_count": null,
   "id": "5414ca49",
   "metadata": {},
   "outputs": [],
   "source": [
    "# -- PESOS INICIALES - Determinan la ubicación de la recta\n",
    "W = np.array([-1.0, 1.0])\n",
    "b = 0.2\n",
    "\n",
    "print(\"W = \", W)\n",
    "print(\"b = \", b)\n",
    "\n",
    "dibuPtosRecta(X,T, W, b)"
   ]
  },
  {
   "cell_type": "code",
   "execution_count": null,
   "id": "4626dfc3",
   "metadata": {},
   "outputs": [],
   "source": [
    "# --- titulos y ph se utilizan sólo para dibujar ---\n",
    "titulos = ['X1', 'X2']\n",
    "ph=0\n",
    "\n",
    "#--- parámetros del PERCEPTRON ---\n",
    "MAX_ITE = 100\n",
    "alfa = 0.1\n",
    "\n",
    "#--- Los pesos iniciales son aleatorios\n",
    "W = np.array(np.random.uniform(-0.5, 0.5, size=2))\n",
    "b = np.random.uniform(-0.5, 0.5)\n",
    "\n",
    "#--- al finalizar ERRORES debe contener la cantidad de cambios realizados en c/iteración ---\n",
    "errores = []\n",
    "\n",
    "# --- Entrenamiento del PERCEPTRON ---\n"
   ]
  },
  {
   "cell_type": "code",
   "execution_count": null,
   "id": "93a5e363",
   "metadata": {},
   "outputs": [],
   "source": [
    "print(\"W = \", W)\n",
    "print(\"b = \", b)"
   ]
  },
  {
   "cell_type": "code",
   "execution_count": null,
   "id": "afa0029f",
   "metadata": {},
   "outputs": [],
   "source": [
    "plt.plot(range(1, len(errores) + 1), errores, marker='o')\n",
    "plt.xlabel('Iteraciones')\n",
    "plt.ylabel('Cantidad de actualizaciones')\n",
    "plt.show()"
   ]
  },
  {
   "cell_type": "code",
   "execution_count": null,
   "id": "0d730ec1",
   "metadata": {},
   "outputs": [],
   "source": []
  }
 ],
 "metadata": {
  "kernelspec": {
   "display_name": "Python 3",
   "language": "python",
   "name": "python3"
  },
  "language_info": {
   "codemirror_mode": {
    "name": "ipython",
    "version": 3
   },
   "file_extension": ".py",
   "mimetype": "text/x-python",
   "name": "python",
   "nbconvert_exporter": "python",
   "pygments_lexer": "ipython3",
   "version": "3.12.2"
  }
 },
 "nbformat": 4,
 "nbformat_minor": 5
}
