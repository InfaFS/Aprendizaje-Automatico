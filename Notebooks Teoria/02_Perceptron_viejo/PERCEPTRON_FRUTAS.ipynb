{
 "cells": [
  {
   "cell_type": "code",
   "execution_count": 3,
   "id": "f3fbf3c3",
   "metadata": {},
   "outputs": [],
   "source": [
    "%matplotlib inline\n",
    "import pandas as pd\n",
    "import numpy as np\n",
    "from sklearn import preprocessing\n",
    "\n",
    "import time\n",
    "#from matplotlib import pyplot as plt\n",
    "from matplotlib import pylab as plt\n",
    "from IPython import display\n",
    "\n",
    "from grafica import *\n",
    "from ClassPerceptron import Perceptron"
   ]
  },
  {
   "cell_type": "code",
   "execution_count": 9,
   "id": "b6b4b05f",
   "metadata": {},
   "outputs": [
    {
     "name": "stdout",
     "output_type": "stream",
     "text": [
      "    Diametro  Color    Clase\n",
      "0         10    200  Naranja\n",
      "1         20     30    Melon\n",
      "2          8    150  Naranja\n",
      "3         26     30    Melon\n",
      "4          7    170  Naranja\n",
      "5         24     32    Melon\n",
      "6         20    170  Naranja\n",
      "7         21    160    Melon\n",
      "8         21    180  Naranja\n",
      "9         23    160    Melon\n",
      "10        22    190  Naranja\n",
      "11        23    190    Melon\n",
      "12        24    250  Naranja\n",
      "13        15     31    Melon\n",
      "14        15    250  Naranja\n",
      "15        19     31    Melon\n",
      "[[ 10 200]\n",
      " [ 20  30]\n",
      " [  8 150]\n",
      " [ 26  30]\n",
      " [  7 170]\n",
      " [ 24  32]\n",
      " [ 20 170]\n",
      " [ 21 160]\n",
      " [ 21 180]\n",
      " [ 23 160]\n",
      " [ 22 190]\n",
      " [ 23 190]\n",
      " [ 24 250]\n",
      " [ 15  31]\n",
      " [ 15 250]\n",
      " [ 19  31]]\n"
     ]
    }
   ],
   "source": [
    "# Leer FrutasTrain.csv\n",
    "datos = pd.read_csv(\"FrutasTrain.csv\")\n",
    "nColum = list(datos.columns.values)\n",
    "#--- DATOS DE ENTRENAMIENTO ---\n",
    "print(datos)\n",
    "X = np.array(datos.iloc[:,0:2])\n",
    "print(X)\n",
    "#--- SALIDA BINARIA ---\n",
    "T = datos['Clase'] == 'Melon'  #es boolean\n",
    "T = np.array(T * 1)  #lo convierte en binario"
   ]
  },
  {
   "cell_type": "code",
   "execution_count": null,
   "id": "4626dfc3",
   "metadata": {},
   "outputs": [],
   "source": [
    "ppn = Perceptron(alpha=0.001, n_iter=350, draw=1, title=nColum[0:2], random_state=None)\n",
    "ppn.fit(X, T)"
   ]
  },
  {
   "cell_type": "code",
   "execution_count": null,
   "id": "bf51693f",
   "metadata": {},
   "outputs": [],
   "source": [
    "plt.plot(range(1, len(ppn.errors_) + 1), ppn.errors_, marker='o')\n",
    "plt.xlabel('Iteraciones')\n",
    "plt.ylabel('Cantidad de actualizaciones')\n",
    "plt.show()"
   ]
  },
  {
   "cell_type": "code",
   "execution_count": null,
   "id": "28005582",
   "metadata": {},
   "outputs": [],
   "source": [
    "from PlotRegiones import plot_decision_regions\n",
    "\n",
    "plot_decision_regions(X, T, classifier=ppn)\n",
    "plt.xlabel(ppn.title[0])\n",
    "plt.ylabel(ppn.title[1])\n",
    "plt.legend(loc='lower left')\n",
    "plt.show()"
   ]
  },
  {
   "cell_type": "code",
   "execution_count": null,
   "id": "ef97d2be",
   "metadata": {},
   "outputs": [],
   "source": [
    "Y = ppn.predict(X)\n",
    "print(\"Y = \", Y)\n",
    "print(\"T = \", T)\n",
    "aciertos = sum(Y == T)\n",
    "print(\"aciertos = \", aciertos)\n",
    "nAciertos = sum(Y==T)\n",
    "print(\"%% de aciertos = %.2f %%\" % (100*nAciertos/X.shape[0]))\n"
   ]
  }
 ],
 "metadata": {
  "kernelspec": {
   "display_name": "Python 3",
   "language": "python",
   "name": "python3"
  },
  "language_info": {
   "codemirror_mode": {
    "name": "ipython",
    "version": 3
   },
   "file_extension": ".py",
   "mimetype": "text/x-python",
   "name": "python",
   "nbconvert_exporter": "python",
   "pygments_lexer": "ipython3",
   "version": "3.12.4"
  }
 },
 "nbformat": 4,
 "nbformat_minor": 5
}
