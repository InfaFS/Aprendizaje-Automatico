{
 "cells": [
  {
   "cell_type": "code",
   "execution_count": 1,
   "id": "f7a1ef8b",
   "metadata": {},
   "outputs": [],
   "source": [
    "import numpy as np\n",
    "from matplotlib import pyplot as plt\n"
   ]
  },
  {
   "cell_type": "code",
   "execution_count": 2,
   "id": "d333a1fd",
   "metadata": {},
   "outputs": [
    {
     "name": "stdout",
     "output_type": "stream",
     "text": [
      "ECM ---> ite = 500     y = 0.00416\n"
     ]
    }
   ],
   "source": [
    "X = 1\n",
    "Y = 0\n",
    "\n",
    "# W = np.random.uniform(-0.5,0.5, 2)  #[0.7949,  0.3120]\n",
    "# b = np.random.uniform(-0.5,0.5, 1)  #-2.0388\n",
    "\n",
    "#W = 0.6\n",
    "#b = 0.9\n",
    "\n",
    "# W = 2\n",
    "# b = 2\n",
    "\n",
    "W = 4\n",
    "b = 2\n",
    "\n",
    "FUN = 'logsig'\n",
    "\n",
    "MAX_ITE = 500\n",
    "alfa = 0.25\n",
    "ite = 0\n",
    "E_ant =0\n",
    "Error = 1\n",
    "itera = []\n",
    "while (ite<MAX_ITE) and (np.absolute(E_ant-Error)>0.000001):\n",
    "    E_ant = Error\n",
    "    \n",
    "    neta = W * X + b\n",
    "\n",
    "    y = 1.0/(1+np.exp(-neta))\n",
    "    \n",
    "    Error = Y - y\n",
    "    Costo = - ( Y * np.log(y) + (1-Y) * np.log(1-y))\n",
    "    \n",
    "    gradiente_W = - Error * X\n",
    "    gradiente_b = - Error\n",
    "    \n",
    "    W = W - alfa * gradiente_W\n",
    "    b = b - alfa * gradiente_b\n",
    "    \n",
    "    itera.append([W, b, Costo, y])\n",
    "    ite = ite + 1\n",
    "    \n",
    "print(\"ECM ---> ite = %d     y = %.5f\" % (ite, y))    "
   ]
  },
  {
   "cell_type": "code",
   "execution_count": 3,
   "id": "5f31081a",
   "metadata": {},
   "outputs": [
    {
     "data": {
      "image/png": "[encoded data removed]",
      "text/plain": [
       "<Figure size 432x288 with 4 Axes>"
      ]
     },
     "metadata": {
      "needs_background": "light"
     },
     "output_type": "display_data"
    }
   ],
   "source": [
    "itera= np.array(itera)    \n",
    "x = range(ite)    \n",
    "fig, axs = plt.subplots(2, 2)\n",
    "axs[0, 0].plot(x, itera[:,0])\n",
    "axs[0, 0].set_title('W')\n",
    "axs[0, 1].plot(x, itera[:,1], 'tab:orange')\n",
    "axs[0, 1].set_title('b')\n",
    "axs[1, 0].plot(x, itera[:,2], 'tab:green')\n",
    "axs[1, 0].set_title('Costo')\n",
    "axs[1, 1].plot(x, itera[:,3], 'tab:red')\n",
    "axs[1, 1].set_title('y')\n",
    "plt.suptitle('ECM')\n",
    "fig.tight_layout()"
   ]
  },
  {
   "cell_type": "code",
   "execution_count": null,
   "id": "473afcce",
   "metadata": {},
   "outputs": [],
   "source": []
  }
 ],
 "metadata": {
  "kernelspec": {
   "display_name": "Python 3",
   "language": "python",
   "name": "python3"
  },
  "language_info": {
   "codemirror_mode": {
    "name": "ipython",
    "version": 3
   },
   "file_extension": ".py",
   "mimetype": "text/x-python",
   "name": "python",
   "nbconvert_exporter": "python",
   "pygments_lexer": "ipython3",
   "version": "3.12.4"
  }
 },
 "nbformat": 4,
 "nbformat_minor": 5
}
