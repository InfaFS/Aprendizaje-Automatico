{
 "cells": [
  {
   "cell_type": "code",
   "execution_count": 1,
   "id": "271a3944",
   "metadata": {},
   "outputs": [],
   "source": [
    "\n",
    "# agrega ruta de busqueda donde tenemos archivos .py\n",
    "import sys\n",
    "FUENTES_DIR = \"../../Recursos\"\n",
    "sys.path.append(FUENTES_DIR)"
   ]
  },
  {
   "cell_type": "code",
   "execution_count": 2,
   "id": "5d42897d",
   "metadata": {},
   "outputs": [],
   "source": [
    "import numpy as np\n",
    "import pandas as pd\n",
    "from sklearn import preprocessing, metrics, model_selection\n",
    "from matplotlib import pylab as plt\n",
    "from IPython import display\n",
    "\n",
    "from ClassRNMulticlase import RNMulticlase"
   ]
  },
  {
   "cell_type": "code",
   "execution_count": 5,
   "id": "2abdfc38",
   "metadata": {},
   "outputs": [
    {
     "data": {
      "text/html": [
       "<div>\n",
       "<style scoped>\n",
       "    .dataframe tbody tr th:only-of-type {\n",
       "        vertical-align: middle;\n",
       "    }\n",
       "\n",
       "    .dataframe tbody tr th {\n",
       "        vertical-align: top;\n",
       "    }\n",
       "\n",
       "    .dataframe thead th {\n",
       "        text-align: right;\n",
       "    }\n",
       "</style>\n",
       "<table border=\"1\" class=\"dataframe\">\n",
       "  <thead>\n",
       "    <tr style=\"text-align: right;\">\n",
       "      <th></th>\n",
       "      <th>sepallength</th>\n",
       "      <th>sepalwidth</th>\n",
       "      <th>petallength</th>\n",
       "      <th>petalwidth</th>\n",
       "      <th>class</th>\n",
       "    </tr>\n",
       "  </thead>\n",
       "  <tbody>\n",
       "    <tr>\n",
       "      <th>0</th>\n",
       "      <td>5.1</td>\n",
       "      <td>3.5</td>\n",
       "      <td>1.4</td>\n",
       "      <td>0.2</td>\n",
       "      <td>Iris-setosa</td>\n",
       "    </tr>\n",
       "    <tr>\n",
       "      <th>1</th>\n",
       "      <td>4.9</td>\n",
       "      <td>3.0</td>\n",
       "      <td>1.4</td>\n",
       "      <td>0.2</td>\n",
       "      <td>Iris-setosa</td>\n",
       "    </tr>\n",
       "    <tr>\n",
       "      <th>2</th>\n",
       "      <td>4.7</td>\n",
       "      <td>3.2</td>\n",
       "      <td>1.3</td>\n",
       "      <td>0.2</td>\n",
       "      <td>Iris-setosa</td>\n",
       "    </tr>\n",
       "    <tr>\n",
       "      <th>3</th>\n",
       "      <td>4.6</td>\n",
       "      <td>3.1</td>\n",
       "      <td>1.5</td>\n",
       "      <td>0.2</td>\n",
       "      <td>Iris-setosa</td>\n",
       "    </tr>\n",
       "    <tr>\n",
       "      <th>4</th>\n",
       "      <td>5.0</td>\n",
       "      <td>3.6</td>\n",
       "      <td>1.4</td>\n",
       "      <td>0.2</td>\n",
       "      <td>Iris-setosa</td>\n",
       "    </tr>\n",
       "  </tbody>\n",
       "</table>\n",
       "</div>"
      ],
      "text/plain": [
       "   sepallength  sepalwidth  petallength  petalwidth        class\n",
       "0          5.1         3.5          1.4         0.2  Iris-setosa\n",
       "1          4.9         3.0          1.4         0.2  Iris-setosa\n",
       "2          4.7         3.2          1.3         0.2  Iris-setosa\n",
       "3          4.6         3.1          1.5         0.2  Iris-setosa\n",
       "4          5.0         3.6          1.4         0.2  Iris-setosa"
      ]
     },
     "execution_count": 5,
     "metadata": {},
     "output_type": "execute_result"
    }
   ],
   "source": [
    "datos = pd.read_csv('../../Datos/iris.csv')\n",
    "datos.head()"
   ]
  },
  {
   "cell_type": "code",
   "execution_count": 6,
   "id": "1d83d9c4",
   "metadata": {},
   "outputs": [
    {
     "name": "stdout",
     "output_type": "stream",
     "text": [
      "[[1. 0. 0.]\n",
      " [1. 0. 0.]\n",
      " [1. 0. 0.]\n",
      " [1. 0. 0.]\n",
      " [1. 0. 0.]]\n"
     ]
    }
   ],
   "source": [
    "X = np.array(datos.iloc[:, 2:4])  # nos quedamos con petallength y petalwidth\n",
    "\n",
    "T = np.array(datos['class'])\n",
    "nomClases = datos['class'].value_counts()\n",
    "\n",
    "# creating instance of one-hot-encoder\n",
    "enc = preprocessing.OneHotEncoder(handle_unknown='ignore')\n",
    "T = enc.fit_transform(T.reshape(-1,1)).toarray()\n",
    "print(T[:5,:])"
   ]
  },
  {
   "cell_type": "code",
   "execution_count": 7,
   "id": "283fe519",
   "metadata": {},
   "outputs": [],
   "source": [
    "#--- CONJUNTOS DE ENTRENAMIENTO Y TESTEO ---\n",
    "X_train, X_test, T_train, T_test = model_selection.train_test_split( \\\n",
    "                                         X, T, test_size=0.70) #, random_state=42)\n",
    "\n",
    "normalizarEntradas = True\n",
    "if normalizarEntradas:\n",
    "    normalizador = preprocessing.StandardScaler()\n",
    "    X_train = normalizador.fit_transform(X_train)\n",
    "    X_test = normalizador.transform(X_test)"
   ]
  },
  {
   "cell_type": "code",
   "execution_count": 8,
   "id": "228f666f",
   "metadata": {},
   "outputs": [
    {
     "name": "stdout",
     "output_type": "stream",
     "text": [
      "accuracy =  1.0\n"
     ]
    }
   ],
   "source": [
    "rn = RNMulticlase(alpha=0.1, n_iter=400, cotaE=10e-10, FUN='softmax', COSTO='EC')\n",
    "resul=rn.fit(X_train,T_train)\n",
    "print(\"accuracy = \", rn.accuracy(X_train,T_train))"
   ]
  },
  {
   "cell_type": "code",
   "execution_count": 9,
   "id": "f12219e8",
   "metadata": {},
   "outputs": [
    {
     "data": {
      "image/png": "[encoded data removed]",
      "text/plain": [
       "<Figure size 640x480 with 2 Axes>"
      ]
     },
     "metadata": {},
     "output_type": "display_data"
    }
   ],
   "source": [
    "x = range(len(rn.errors_))    \n",
    "fig, (ax1, ax2)= plt.subplots(2)\n",
    "ax1.plot(x, rn.errors_)\n",
    "ax1.set_title('EC')\n",
    "ax2.plot(x, rn.accuracy_, 'tab:orange')\n",
    "ax2.set_title('accuracy')\n",
    "plt.suptitle('SoftMax + EC')\n",
    "fig.tight_layout()"
   ]
  },
  {
   "cell_type": "code",
   "execution_count": 10,
   "id": "c6bde741",
   "metadata": {},
   "outputs": [
    {
     "data": {
      "text/plain": [
       "0.9619047619047619"
      ]
     },
     "execution_count": 10,
     "metadata": {},
     "output_type": "execute_result"
    }
   ],
   "source": [
    "rn.accuracy(X_test, T_test)"
   ]
  },
  {
   "cell_type": "code",
   "execution_count": 13,
   "id": "c92d04b2",
   "metadata": {},
   "outputs": [
    {
     "data": {
      "image/png": "[encoded data removed]",
      "text/plain": [
       "<Figure size 640x480 with 1 Axes>"
      ]
     },
     "metadata": {},
     "output_type": "display_data"
    }
   ],
   "source": [
    "from PlotRegiones import plot_decision_regions\n",
    "Y = np.argmax(T_train.T,axis=0)\n",
    "\n",
    "plot_decision_regions(X_train, Y, classifier=rn)\n",
    "plt.xlabel('X1')\n",
    "plt.ylabel('X2')\n",
    "plt.legend(loc='upper right')\n",
    "plt.show()"
   ]
  },
  {
   "cell_type": "code",
   "execution_count": null,
   "id": "c9c8f04e",
   "metadata": {},
   "outputs": [],
   "source": []
  }
 ],
 "metadata": {
  "kernelspec": {
   "display_name": "Python 3",
   "language": "python",
   "name": "python3"
  },
  "language_info": {
   "codemirror_mode": {
    "name": "ipython",
    "version": 3
   },
   "file_extension": ".py",
   "mimetype": "text/x-python",
   "name": "python",
   "nbconvert_exporter": "python",
   "pygments_lexer": "ipython3",
   "version": "3.12.4"
  }
 },
 "nbformat": 4,
 "nbformat_minor": 5
}
