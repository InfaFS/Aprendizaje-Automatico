{
 "cells": [
  {
   "cell_type": "code",
   "execution_count": 19,
   "metadata": {},
   "outputs": [],
   "source": [
    "import numpy as np\n",
    "import math\n",
    "import matplotlib.pyplot as plt\n",
    "import pandas as pd"
   ]
  },
  {
   "cell_type": "code",
   "execution_count": 49,
   "metadata": {},
   "outputs": [
    {
     "name": "stdout",
     "output_type": "stream",
     "text": [
      "[71.16255476 29.55712945 36.91941198 31.78561607 29.44848719]\n",
      "Los dos menores son el combinador b y el e\n"
     ]
    }
   ],
   "source": [
    "#Mi solucion\n",
    "data = pd.read_csv(\"../Datos/CCPP.csv\")\n",
    "X = np.array(data.iloc[:,0])\n",
    "Y = np.array(data.iloc[:,-1])\n",
    "\n",
    "W = np.array([-2.00,-2.21,-2.30,-2.22,-2.16])\n",
    "B = np.array([500,498,497,496.5,496.91])\n",
    "\n",
    "errores_array = np.zeros(5)\n",
    "suma_error = 0\n",
    "for i in range(X.shape[0]):\n",
    "    for j in range(W.shape[0]):\n",
    "        Y_pred = W[j]*X[i] + B[j]  \n",
    "        Error = Y[i] - Y_pred\n",
    "        errores_array[j]+= Error**2\n",
    "\n",
    "errores_array = errores_array / X.shape[0]\n",
    "\n",
    "print(errores_array)\n",
    "\n",
    "print(\"Los dos menores son el combinador b y el e\")\n",
    "\n",
    "\n",
    "\n"
   ]
  },
  {
   "cell_type": "code",
   "execution_count": 50,
   "metadata": {},
   "outputs": [
    {
     "name": "stdout",
     "output_type": "stream",
     "text": [
      "Combinador 1 - W: -2.16, b: 496.91, ECM: 29.45\n",
      "Combinador 2 - W: -2.21, b: 498, ECM: 29.56\n"
     ]
    }
   ],
   "source": [
    "#Chat gpt\n",
    "import pandas as pd\n",
    "import numpy as np\n",
    "\n",
    "# Cargar datos\n",
    "data = pd.read_csv(\"../Datos/CCPP.csv\")\n",
    "AT = data['AT']\n",
    "PE = data['PE']\n",
    "\n",
    "# Definir los combinadores lineales\n",
    "combinadores = [\n",
    "    {'W': -2.00, 'b': 500},\n",
    "    {'W': -2.21, 'b': 498},\n",
    "    {'W': -2.30, 'b': 497},\n",
    "    {'W': -2.22, 'b': 496.5},\n",
    "    {'W': -2.16, 'b': 496.91}\n",
    "]\n",
    "\n",
    "# Calcular el ECM para cada combinador\n",
    "ecms = []\n",
    "for comb in combinadores:\n",
    "    W = comb['W']\n",
    "    b = comb['b']\n",
    "    Y_pred = W * AT + b\n",
    "    ecm = np.mean((PE - Y_pred) ** 2)\n",
    "    ecms.append(ecm)\n",
    "\n",
    "# Obtener los dos combinadores con menor ECM\n",
    "sorted_combinadores = sorted(zip(ecms, combinadores), key=lambda x: x[0])\n",
    "top_two = sorted_combinadores[:2]\n",
    "\n",
    "# Mostrar los resultados\n",
    "for i, (ecm, comb) in enumerate(top_two, start=1):\n",
    "    print(f\"Combinador {i} - W: {comb['W']}, b: {comb['b']}, ECM: {ecm:.2f}\")"
   ]
  },
  {
   "cell_type": "code",
   "execution_count": null,
   "metadata": {},
   "outputs": [],
   "source": []
  }
 ],
 "metadata": {
  "kernelspec": {
   "display_name": "base",
   "language": "python",
   "name": "python3"
  },
  "language_info": {
   "codemirror_mode": {
    "name": "ipython",
    "version": 3
   },
   "file_extension": ".py",
   "mimetype": "text/x-python",
   "name": "python",
   "nbconvert_exporter": "python",
   "pygments_lexer": "ipython3",
   "version": "3.12.4"
  }
 },
 "nbformat": 4,
 "nbformat_minor": 2
}
