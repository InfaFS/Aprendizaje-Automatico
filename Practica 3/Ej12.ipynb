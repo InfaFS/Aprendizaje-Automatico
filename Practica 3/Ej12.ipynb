{
 "cells": [
  {
   "cell_type": "code",
   "execution_count": 5,
   "metadata": {},
   "outputs": [],
   "source": [
    "\n",
    "# agrega ruta de busqueda donde tenemos archivos .py\n",
    "import sys\n",
    "FUENTES_DIR = \"../Recursos\"\n",
    "sys.path.append(FUENTES_DIR)"
   ]
  },
  {
   "cell_type": "code",
   "execution_count": 6,
   "metadata": {},
   "outputs": [],
   "source": [
    "%matplotlib inline\n",
    "import pandas as pd\n",
    "import numpy as np\n",
    "from sklearn import preprocessing, metrics, model_selection\n",
    "\n",
    "import time\n",
    "#from matplotlib import pyplot as plt\n",
    "from matplotlib import pylab as plt\n",
    "from IPython import display\n",
    "\n",
    "from ClassRNMulticlase import RNMulticlase"
   ]
  },
  {
   "cell_type": "code",
   "execution_count": 21,
   "metadata": {},
   "outputs": [
    {
     "name": "stdout",
     "output_type": "stream",
     "text": [
      "Promedio =  93.75\n"
     ]
    }
   ],
   "source": [
    "datos = pd.read_csv(\"../Datos/Vinos.csv\",sep=';')\n",
    "datos.head()\n",
    "repes = 10\n",
    "suma_accuracy = 0\n",
    "for _ in range (repes):\n",
    "    X = datos.iloc[:,1:].values\n",
    "    X.shape\n",
    "    T= datos['Class'].values\n",
    "\n",
    "    # creating instance of one-hot-encoder\n",
    "    enc = preprocessing.OneHotEncoder(handle_unknown='ignore')\n",
    "    T = enc.fit_transform(T.reshape(-1,1)).toarray()\n",
    "\n",
    "\n",
    "    #--- CONJUNTOS DE ENTRENAMIENTO Y TESTEO ---\n",
    "    X_train, X_test, T_train, T_test = model_selection.train_test_split( \\\n",
    "                                            X, T, test_size=0.40) #, random_state=42)\n",
    "\n",
    "    normalizarEntradas = True\n",
    "    if normalizarEntradas:\n",
    "        normalizador = preprocessing.StandardScaler()\n",
    "        X_train = normalizador.fit_transform(X_train)\n",
    "        X_test = normalizador.transform(X_test)\n",
    "\n",
    "    #Cuando usamos tanh\n",
    "    # T_train = 2*T_train-1\n",
    "    # T_test  = 2*T_test-1\n",
    "    rn = RNMulticlase(alpha=0.1, n_iter=400, cotaE=10e-10, FUN='sigmoid', COSTO='ECM')\n",
    "    resul=rn.fit(X_train,T_train)\n",
    "    suma_accuracy += rn.accuracy(X_test,T_test)\n",
    "print(\"Promedio = \",(suma_accuracy/repes)*100)\n"
   ]
  },
  {
   "cell_type": "code",
   "execution_count": null,
   "metadata": {},
   "outputs": [],
   "source": [
    "#Promedios 40% test\n",
    "#Función de activación ‘tanh’ y función de costo ‘ECM’ (error cuadrático medio) = 93,47%\n",
    "#Capa ‘Softmax’ y función de costo ‘EC’ (entropía cruzada) = 88,75%\n",
    "#Función de activación ‘sigmoid’ y función de costo ‘EC_binaria’ (entropía cruzada binaria) = 94.02%\n",
    "#Función de activación ‘sigmoid’ y función de costo ‘ECM’ (error cuadrático medio) = 93.75 %\n",
    "  "
   ]
  }
 ],
 "metadata": {
  "kernelspec": {
   "display_name": "base",
   "language": "python",
   "name": "python3"
  },
  "language_info": {
   "codemirror_mode": {
    "name": "ipython",
    "version": 3
   },
   "file_extension": ".py",
   "mimetype": "text/x-python",
   "name": "python",
   "nbconvert_exporter": "python",
   "pygments_lexer": "ipython3",
   "version": "3.12.4"
  }
 },
 "nbformat": 4,
 "nbformat_minor": 2
}
