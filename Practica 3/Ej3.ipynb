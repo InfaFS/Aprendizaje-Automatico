{
 "cells": [
  {
   "cell_type": "code",
   "metadata": {
    "ExecuteTime": {
     "end_time": "2024-09-18T18:26:40.162723Z",
     "start_time": "2024-09-18T18:26:40.158210Z"
    }
   },
   "source": [
    "import numpy as np\n",
    "import math\n",
    "import matplotlib.pyplot as plt"
   ],
   "outputs": [],
   "execution_count": 6
  },
  {
   "cell_type": "code",
   "metadata": {
    "ExecuteTime": {
     "end_time": "2024-09-18T18:26:40.828415Z",
     "start_time": "2024-09-18T18:26:40.816765Z"
    }
   },
   "source": [
    "#Ejercicio a)\n",
    "#Vamos a simular la convergencia \n",
    "\n",
    "import numpy as np\n",
    "\n",
    "# Definir la función\n",
    "def V(r, h):\n",
    "    return (r**2 * h * np.pi) / 3\n",
    "\n",
    "# Derivadas parciales\n",
    "def grad_V(r, h):\n",
    "    df_dr = (2 * r * h * np.pi) / 3\n",
    "    df_dh = (r**2 * np.pi) / 3\n",
    "    return df_dr, df_dh\n",
    "\n",
    "# Parámetros del descenso del gradiente\n",
    "alpha = 0.1  # Tasa de aprendizaje\n",
    "r = 1.5  # Valor inicial de r\n",
    "h = 1.5;  # Valor inicial de h\n",
    "MAX_ITE = 100  # Número máximo de iteraciones\n",
    "cota = 10e-6  # Umbral para la diferencia\n",
    "\n",
    "# Inicializar valores\n",
    "prev_value = V(r, h)\n",
    "\n",
    "# Descenso del gradiente\n",
    "for _ in range(MAX_ITE):\n",
    "    df_dr, df_dh = grad_V(r, h)\n",
    "    r_new = r - alpha * df_dr\n",
    "    h_new = h - alpha * df_dh\n",
    "    \n",
    "    current_value = V(r_new, h_new)\n",
    "    \n",
    "    # Verificar la diferencia\n",
    "    if abs(current_value - prev_value) < cota:\n",
    "        print(f\"Encontrado un valor cercano a cero para V(r, h):\")\n",
    "        print(f\"r = {r_new}, h = {h_new}\")\n",
    "        print(f\"V(r, h) = {current_value}\")\n",
    "        break\n",
    "    \n",
    "    # Actualizar valores para la siguiente iteración\n",
    "    r, h = r_new, h_new\n",
    "    prev_value = current_value\n",
    "else:\n",
    "    print(\"No se encontró un valor cercano a cero para V(r, h) en el número máximo de iteraciones.\")\n",
    "    print(f\"Últimos valores: r = {r}, h = {h}\")\n",
    "    print(f\"V(r, h) = {current_value}\")\n"
   ],
   "outputs": [
    {
     "name": "stdout",
     "output_type": "stream",
     "text": [
      "Encontrado un valor cercano a cero para V(r, h):\n",
      "r = 0.0037470263795169106, h = 1.006399082822215\n",
      "V(r, h) = 1.4796954946056977e-05\n"
     ]
    }
   ],
   "execution_count": 7
  },
  {
   "cell_type": "code",
   "metadata": {
    "ExecuteTime": {
     "end_time": "2024-09-18T18:26:43.545685Z",
     "start_time": "2024-09-18T18:26:43.534776Z"
    }
   },
   "source": [
    "#Ejercicio b)\n",
    "#Vamos a simular la convergencia \n",
    "\n",
    "import numpy as np\n",
    "\n",
    "# Definir la función\n",
    "def V(r, h):\n",
    "    return (r/(2*r**2+3*h**2+1))\n",
    "\n",
    "# Derivadas parciales\n",
    "def grad_V(r, h):\n",
    "    df_dr = (-2*r**2+3*h**2+1)/(2*r**2+3*h**2+1)**2\n",
    "    df_dh = (-6*r*h) / (2*r**2+3*h**2+1)**2\n",
    "    return df_dr, df_dh\n",
    "\n",
    "# Parámetros del descenso del gradiente\n",
    "alpha = 0.1  # Tasa de aprendizaje\n",
    "r = 1.5  # Valor inicial de r\n",
    "h = 1.5;  # Valor inicial de h\n",
    "MAX_ITE = 100  # Número máximo de iteraciones\n",
    "cota = 10e-6  # Umbral para la diferencia\n",
    "\n",
    "# Inicializar valores\n",
    "prev_value = V(r, h)\n",
    "\n",
    "# Descenso del gradiente\n",
    "for _ in range(MAX_ITE):\n",
    "    df_dr, df_dh = grad_V(r, h)\n",
    "    r_new = r + alpha * df_dr\n",
    "    h_new = h + alpha * df_dh\n",
    "    \n",
    "    current_value = V(r_new, h_new)\n",
    "    \n",
    "    # Verificar la diferencia\n",
    "    if abs(current_value - prev_value) < cota:\n",
    "        print(f\"Encontrado un valor cercano a cero para V(r, h):\")\n",
    "        print(f\"r = {r_new}, h = {h_new}\")\n",
    "        print(f\"V(r, h) = {current_value}\")\n",
    "        break\n",
    "    \n",
    "    # Actualizar valores para la siguiente iteración\n",
    "    r, h = r_new, h_new\n",
    "    prev_value = current_value\n",
    "else:\n",
    "    print(\"No se encontró un valor cercano a cero para V(r, h) en el número máximo de iteraciones.\")\n",
    "    print(f\"Últimos valores: r = {r}, h = {h}\")\n",
    "    print(f\"V(r, h) = {current_value}\")\n"
   ],
   "outputs": [
    {
     "name": "stdout",
     "output_type": "stream",
     "text": [
      "No se encontró un valor cercano a cero para V(r, h) en el número máximo de iteraciones.\n",
      "Últimos valores: r = 1.2989700133538211, h = 0.3324915747117192\n",
      "V(r, h) = 0.27600674174465\n"
     ]
    }
   ],
   "execution_count": 8
  },
  {
   "cell_type": "code",
   "execution_count": null,
   "metadata": {},
   "outputs": [],
   "source": []
  }
 ],
 "metadata": {
  "kernelspec": {
   "display_name": "base",
   "language": "python",
   "name": "python3"
  },
  "language_info": {
   "codemirror_mode": {
    "name": "ipython",
    "version": 3
   },
   "file_extension": ".py",
   "mimetype": "text/x-python",
   "name": "python",
   "nbconvert_exporter": "python",
   "pygments_lexer": "ipython3",
   "version": "3.12.4"
  }
 },
 "nbformat": 4,
 "nbformat_minor": 2
}
