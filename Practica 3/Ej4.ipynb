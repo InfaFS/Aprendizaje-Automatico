{
 "cells": [
  {
   "cell_type": "code",
   "execution_count": 1,
   "metadata": {},
   "outputs": [],
   "source": [
    "import numpy as np\n",
    "import math\n",
    "import matplotlib.pyplot as plt"
   ]
  },
  {
   "cell_type": "code",
   "execution_count": 32,
   "metadata": {},
   "outputs": [
    {
     "name": "stdout",
     "output_type": "stream",
     "text": [
      "83\n",
      "x =  0.9938913391619899\n",
      "y =  10.990115979138354\n",
      "valor funcion con los 2 valores =  100.00005156908054\n"
     ]
    }
   ],
   "source": [
    "#4)\n",
    "#Funcion principal\n",
    "x = 1\n",
    "y = 1\n",
    "def f(x,y):\n",
    "    return (y**2-2*x*y+2*x**2+18*x-20*y+201) \n",
    "#En este caso apuntamos al 100 (ya que si z es = 100 obtuvimos el minimo)\n",
    "\n",
    "iteracion = 0\n",
    "MAX_ITE = 100\n",
    "learning_rate = 0.1\n",
    "cota = 10e-6\n",
    "\n",
    "valor_funcion_ant = 0\n",
    "valor_funcion_act = 99999999\n",
    "\n",
    "while (iteracion < MAX_ITE) and (abs(valor_funcion_act-valor_funcion_ant) > cota):\n",
    "    df_x_temp = -2*y + 4*x + 18\n",
    "    df_y_temp = 2*y- 2*x -20\n",
    "    valor_funcion_ant = f(x,y)\n",
    "    x = x - (learning_rate * df_x_temp)\n",
    "    y = y - (learning_rate * df_y_temp)\n",
    "    valor_funcion_act = f(x,y)\n",
    "    iteracion +=1\n",
    "\n",
    "print(iteracion)\n",
    "print(\"x = \" ,x)\n",
    "print(\"y = \",y)\n",
    "print(\"valor funcion con los 2 valores = \",f(x,y))"
   ]
  },
  {
   "cell_type": "code",
   "execution_count": null,
   "metadata": {},
   "outputs": [],
   "source": []
  }
 ],
 "metadata": {
  "kernelspec": {
   "display_name": "base",
   "language": "python",
   "name": "python3"
  },
  "language_info": {
   "codemirror_mode": {
    "name": "ipython",
    "version": 3
   },
   "file_extension": ".py",
   "mimetype": "text/x-python",
   "name": "python",
   "nbconvert_exporter": "python",
   "pygments_lexer": "ipython3",
   "version": "3.12.4"
  }
 },
 "nbformat": 4,
 "nbformat_minor": 2
}
